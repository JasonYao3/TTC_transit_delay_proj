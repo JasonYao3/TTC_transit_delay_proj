{
 "cells": [
  {
   "cell_type": "code",
   "execution_count": 1,
   "metadata": {},
   "outputs": [],
   "source": [
    "import pandas as pd \n",
    "import os"
   ]
  },
  {
   "cell_type": "code",
   "execution_count": 23,
   "metadata": {},
   "outputs": [],
   "source": [
    "# Use Python to combine multiple Excel files into one master spreadsheet\n",
    "# https://pythoninoffice.com/use-python-to-combine-multiple-excel-files/\n",
    "def merge_excel(transit):\n",
    "    transit=str(transit)\n",
    "    path = os.path.abspath('../data/%s'%transit)\n",
    "    file = os.listdir(path)\n",
    "    file_list = [os.path.join(path,file) for file in os.listdir(path)]\n",
    "    df_total = pd.DataFrame()\n",
    "    for file in file_list:\n",
    "        excel_file = pd.ExcelFile(file)\n",
    "        sheets = excel_file.sheet_names\n",
    "        for sheet in sheets:\n",
    "            df = excel_file.parse(sheet_name = sheet)\n",
    "            df_total = df_total.append(df)\n",
    "    return df_total\n",
    "    #df_total.to_csv('merged_'+transit+'.csv',index=False)"
   ]
  },
  {
   "cell_type": "code",
   "execution_count": null,
   "metadata": {},
   "outputs": [],
   "source": [
    "bus_df = merge_excel('bus')\n",
    "bus_df.to_csv('./data/merged_bus.csv',index=False)"
   ]
  },
  {
   "cell_type": "code",
   "execution_count": null,
   "metadata": {},
   "outputs": [],
   "source": [
    "streetcar_df = merge_excel('streetcar')\n",
    "streetcar_df.to_csv('./data/merged_streetcar.csv',index=False)"
   ]
  },
  {
   "cell_type": "code",
   "execution_count": 25,
   "metadata": {},
   "outputs": [],
   "source": [
    "subway_df = merge_excel('subway')"
   ]
  },
  {
   "cell_type": "code",
   "execution_count": 26,
   "metadata": {},
   "outputs": [
    {
     "data": {
      "text/plain": [
       "Index(['Date', 'Time', 'Day', 'Station', 'Code', 'Min Delay', 'Min Gap',\n",
       "       'Bound', 'Line', 'Vehicle'],\n",
       "      dtype='object')"
      ]
     },
     "execution_count": 26,
     "metadata": {},
     "output_type": "execute_result"
    }
   ],
   "source": [
    "subway_df.columns"
   ]
  },
  {
   "cell_type": "code",
   "execution_count": 27,
   "metadata": {},
   "outputs": [],
   "source": [
    "subway_df.sort_values(['Date','Time'])\n",
    "subway_df.to_csv('./data/merged_subway.csv',index=False)"
   ]
  }
 ],
 "metadata": {
  "kernelspec": {
   "display_name": "Python 3",
   "language": "python",
   "name": "python3"
  },
  "language_info": {
   "codemirror_mode": {
    "name": "ipython",
    "version": 3
   },
   "file_extension": ".py",
   "mimetype": "text/x-python",
   "name": "python",
   "nbconvert_exporter": "python",
   "pygments_lexer": "ipython3",
   "version": "3.7.3"
  }
 },
 "nbformat": 4,
 "nbformat_minor": 2
}
