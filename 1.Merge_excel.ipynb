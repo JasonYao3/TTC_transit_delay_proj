{
 "cells": [
  {
   "cell_type": "markdown",
   "metadata": {},
   "source": [
    "# 1. Merge Excels"
   ]
  },
  {
   "cell_type": "markdown",
   "metadata": {},
   "source": [
    "## 1.1 Data Explanation\n",
    "I downloaded the data from the City of Toronto’s Open Data Portal https://open.toronto.ca/.\n",
    "There are two sets of data for two different transportations:\n",
    "- The TTC bus delay dataset consist of seven years of record from January 1, 2014 to May 31, 2020 in seven excel files. Each excel file has a dedicated excel worksheet for every monthly records.\n",
    "- The TTC subway delay dataset has 39 excel files from January 2014 to June 30, 2020. From Jan 2014 to April 2017 is one excel file with multiple excel worksheets. Every month after that, each excel file is one month of data."
   ]
  },
  {
   "cell_type": "markdown",
   "metadata": {},
   "source": [
    "## 1.2 Import"
   ]
  },
  {
   "cell_type": "code",
   "execution_count": 1,
   "metadata": {},
   "outputs": [],
   "source": [
    "import pandas as pd \n",
    "import os"
   ]
  },
  {
   "cell_type": "markdown",
   "metadata": {},
   "source": [
    "## 1.3 Merge each set of data into a single csv file"
   ]
  },
  {
   "cell_type": "code",
   "execution_count": 2,
   "metadata": {},
   "outputs": [],
   "source": [
    "# This function merges all excel files and return a dataframe\n",
    "def merge_excel(transit):\n",
    "    transit=str(transit)\n",
    "    path = os.path.abspath('../raw_data/%s'%transit)\n",
    "    file = os.listdir(path)\n",
    "    file_list = [os.path.join(path,file) for file in os.listdir(path)]\n",
    "    df_total = pd.DataFrame()\n",
    "    for file in file_list:\n",
    "        excel_file = pd.ExcelFile(file)\n",
    "        sheets = excel_file.sheet_names\n",
    "        for sheet in sheets:\n",
    "            df = excel_file.parse(sheet_name = sheet)\n",
    "            df_total = df_total.append(df)\n",
    "    return df_total"
   ]
  },
  {
   "cell_type": "markdown",
   "metadata": {},
   "source": [
    "## 1.4 Save as csv"
   ]
  },
  {
   "cell_type": "code",
   "execution_count": 3,
   "metadata": {},
   "outputs": [],
   "source": [
    "bus_df = merge_excel('bus')\n",
    "bus_df.to_csv('./data/merged_bus.csv',index=False)"
   ]
  },
  {
   "cell_type": "code",
   "execution_count": 4,
   "metadata": {},
   "outputs": [],
   "source": [
    "subway_df = merge_excel('subway')\n",
    "subway_df.to_csv('./data/merged_subway.csv',index=False)"
   ]
  },
  {
   "cell_type": "code",
   "execution_count": null,
   "metadata": {},
   "outputs": [],
   "source": []
  }
 ],
 "metadata": {
  "kernelspec": {
   "display_name": "Python 3",
   "language": "python",
   "name": "python3"
  },
  "language_info": {
   "codemirror_mode": {
    "name": "ipython",
    "version": 3
   },
   "file_extension": ".py",
   "mimetype": "text/x-python",
   "name": "python",
   "nbconvert_exporter": "python",
   "pygments_lexer": "ipython3",
   "version": "3.7.3"
  }
 },
 "nbformat": 4,
 "nbformat_minor": 2
}
