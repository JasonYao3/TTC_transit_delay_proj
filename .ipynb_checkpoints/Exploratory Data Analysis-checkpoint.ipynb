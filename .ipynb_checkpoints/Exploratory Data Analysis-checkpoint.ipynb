{
 "cells": [
  {
   "cell_type": "markdown",
   "metadata": {},
   "source": [
    "Bus: Jan. 01, 2014 - May 31, 2020\n",
    "\n",
    "Street car: Jan. 02 2014 - May 31 2020\n",
    "\n",
    "Subway: Jan. 01 2014 - June 2020 \n",
    "\n",
    "~700k records of incident delay for the past 6 year "
   ]
  },
  {
   "cell_type": "code",
   "execution_count": 1,
   "metadata": {},
   "outputs": [],
   "source": [
    "import pandas as pd\n",
    "import numpy as np\n",
    "import matplotlib.pyplot as plt\n",
    "import matplotlib.gridspec as gridspec\n",
    "import matplotlib.style as style\n",
    "import seaborn as sns"
   ]
  },
  {
   "cell_type": "code",
   "execution_count": 2,
   "metadata": {},
   "outputs": [],
   "source": [
    "bus_df = pd.read_csv('merged_bus.csv',encoding='Latin-1')\n",
    "streetcar_df = pd.read_csv('merged_streetcar.csv',encoding='Latin-1')\n",
    "subway_df = pd.read_csv('merged_subway.csv',encoding='Latin-1')"
   ]
  },
  {
   "cell_type": "raw",
   "metadata": {},
   "source": [
    "# change column type from float to int\n",
    "columns = ['Min_delay','Min_gap','Vehicle']\n",
    "for col in columns:\n",
    "    bus_df[col] = bus_df[col].astype('int')\n",
    "    streetcar_df[col] = streetcar_df[col].astype('int')\n",
    "    subway_df[col] = subway_df[col].astype('int')"
   ]
  },
  {
   "cell_type": "code",
   "execution_count": 3,
   "metadata": {},
   "outputs": [
    {
     "data": {
      "text/html": [
       "<div>\n",
       "<style scoped>\n",
       "    .dataframe tbody tr th:only-of-type {\n",
       "        vertical-align: middle;\n",
       "    }\n",
       "\n",
       "    .dataframe tbody tr th {\n",
       "        vertical-align: top;\n",
       "    }\n",
       "\n",
       "    .dataframe thead th {\n",
       "        text-align: right;\n",
       "    }\n",
       "</style>\n",
       "<table border=\"1\" class=\"dataframe\">\n",
       "  <thead>\n",
       "    <tr style=\"text-align: right;\">\n",
       "      <th></th>\n",
       "      <th>Report_date</th>\n",
       "      <th>Route</th>\n",
       "      <th>Time</th>\n",
       "      <th>Day</th>\n",
       "      <th>Location</th>\n",
       "      <th>Incident</th>\n",
       "      <th>Min_delay</th>\n",
       "      <th>Min_gap</th>\n",
       "      <th>Direction</th>\n",
       "      <th>Vehicle</th>\n",
       "      <th>Incident_ID</th>\n",
       "    </tr>\n",
       "  </thead>\n",
       "  <tbody>\n",
       "    <tr>\n",
       "      <th>0</th>\n",
       "      <td>2014-01-01</td>\n",
       "      <td>95</td>\n",
       "      <td>12:23:00 AM</td>\n",
       "      <td>Wednesday</td>\n",
       "      <td>York Mills station</td>\n",
       "      <td>Mechanical</td>\n",
       "      <td>10.0</td>\n",
       "      <td>20.0</td>\n",
       "      <td>E</td>\n",
       "      <td>1734.0</td>\n",
       "      <td>NaN</td>\n",
       "    </tr>\n",
       "    <tr>\n",
       "      <th>1</th>\n",
       "      <td>2014-01-01</td>\n",
       "      <td>102</td>\n",
       "      <td>12:55:00 AM</td>\n",
       "      <td>Wednesday</td>\n",
       "      <td>Entire run for route</td>\n",
       "      <td>General Delay</td>\n",
       "      <td>33.0</td>\n",
       "      <td>66.0</td>\n",
       "      <td>b/w</td>\n",
       "      <td>8110.0</td>\n",
       "      <td>NaN</td>\n",
       "    </tr>\n",
       "    <tr>\n",
       "      <th>2</th>\n",
       "      <td>2014-01-01</td>\n",
       "      <td>54</td>\n",
       "      <td>1:28:00 AM</td>\n",
       "      <td>Wednesday</td>\n",
       "      <td>lawrence and Warden</td>\n",
       "      <td>Mechanical</td>\n",
       "      <td>10.0</td>\n",
       "      <td>20.0</td>\n",
       "      <td>WB</td>\n",
       "      <td>7478.0</td>\n",
       "      <td>NaN</td>\n",
       "    </tr>\n",
       "    <tr>\n",
       "      <th>3</th>\n",
       "      <td>2014-01-01</td>\n",
       "      <td>112</td>\n",
       "      <td>1:30:00 AM</td>\n",
       "      <td>Wednesday</td>\n",
       "      <td>Kipling Station</td>\n",
       "      <td>Emergency Services</td>\n",
       "      <td>18.0</td>\n",
       "      <td>36.0</td>\n",
       "      <td>N</td>\n",
       "      <td>8084.0</td>\n",
       "      <td>NaN</td>\n",
       "    </tr>\n",
       "    <tr>\n",
       "      <th>4</th>\n",
       "      <td>2014-01-01</td>\n",
       "      <td>24</td>\n",
       "      <td>1:37:00 AM</td>\n",
       "      <td>Wednesday</td>\n",
       "      <td>VP and Ellesmere</td>\n",
       "      <td>Investigation</td>\n",
       "      <td>10.0</td>\n",
       "      <td>20.0</td>\n",
       "      <td>n</td>\n",
       "      <td>7843.0</td>\n",
       "      <td>NaN</td>\n",
       "    </tr>\n",
       "  </tbody>\n",
       "</table>\n",
       "</div>"
      ],
      "text/plain": [
       "  Report_date  Route         Time        Day              Location  \\\n",
       "0  2014-01-01     95  12:23:00 AM  Wednesday    York Mills station   \n",
       "1  2014-01-01    102  12:55:00 AM  Wednesday  Entire run for route   \n",
       "2  2014-01-01     54   1:28:00 AM  Wednesday   lawrence and Warden   \n",
       "3  2014-01-01    112   1:30:00 AM  Wednesday       Kipling Station   \n",
       "4  2014-01-01     24   1:37:00 AM  Wednesday      VP and Ellesmere   \n",
       "\n",
       "             Incident  Min_delay  Min_gap Direction  Vehicle  Incident_ID  \n",
       "0          Mechanical       10.0     20.0         E   1734.0          NaN  \n",
       "1       General Delay       33.0     66.0       b/w   8110.0          NaN  \n",
       "2          Mechanical       10.0     20.0        WB   7478.0          NaN  \n",
       "3  Emergency Services       18.0     36.0         N   8084.0          NaN  \n",
       "4       Investigation       10.0     20.0         n   7843.0          NaN  "
      ]
     },
     "execution_count": 3,
     "metadata": {},
     "output_type": "execute_result"
    }
   ],
   "source": [
    "bus_df.head()"
   ]
  },
  {
   "cell_type": "code",
   "execution_count": 4,
   "metadata": {},
   "outputs": [
    {
     "data": {
      "text/html": [
       "<div>\n",
       "<style scoped>\n",
       "    .dataframe tbody tr th:only-of-type {\n",
       "        vertical-align: middle;\n",
       "    }\n",
       "\n",
       "    .dataframe tbody tr th {\n",
       "        vertical-align: top;\n",
       "    }\n",
       "\n",
       "    .dataframe thead th {\n",
       "        text-align: right;\n",
       "    }\n",
       "</style>\n",
       "<table border=\"1\" class=\"dataframe\">\n",
       "  <thead>\n",
       "    <tr style=\"text-align: right;\">\n",
       "      <th></th>\n",
       "      <th>Report_date</th>\n",
       "      <th>Route</th>\n",
       "      <th>Time</th>\n",
       "      <th>Day</th>\n",
       "      <th>Location</th>\n",
       "      <th>Incident</th>\n",
       "      <th>Min_delay</th>\n",
       "      <th>Min_gap</th>\n",
       "      <th>Direction</th>\n",
       "      <th>Vehicle</th>\n",
       "      <th>Incident_ID</th>\n",
       "    </tr>\n",
       "  </thead>\n",
       "  <tbody>\n",
       "    <tr>\n",
       "      <th>0</th>\n",
       "      <td>2014-01-02</td>\n",
       "      <td>505</td>\n",
       "      <td>6:31:00 AM</td>\n",
       "      <td>Thursday</td>\n",
       "      <td>Dundas and Roncesvalles</td>\n",
       "      <td>Late Leaving Garage</td>\n",
       "      <td>4.0</td>\n",
       "      <td>8.0</td>\n",
       "      <td>E/B</td>\n",
       "      <td>4018.0</td>\n",
       "      <td>NaN</td>\n",
       "    </tr>\n",
       "    <tr>\n",
       "      <th>1</th>\n",
       "      <td>2014-01-02</td>\n",
       "      <td>504</td>\n",
       "      <td>12:43:00 PM</td>\n",
       "      <td>Thursday</td>\n",
       "      <td>King and Shaw</td>\n",
       "      <td>Utilized Off Route</td>\n",
       "      <td>20.0</td>\n",
       "      <td>22.0</td>\n",
       "      <td>E/B</td>\n",
       "      <td>4128.0</td>\n",
       "      <td>NaN</td>\n",
       "    </tr>\n",
       "    <tr>\n",
       "      <th>2</th>\n",
       "      <td>2014-01-02</td>\n",
       "      <td>501</td>\n",
       "      <td>2:01:00 PM</td>\n",
       "      <td>Thursday</td>\n",
       "      <td>Kingston road and Bingham</td>\n",
       "      <td>Held By</td>\n",
       "      <td>13.0</td>\n",
       "      <td>19.0</td>\n",
       "      <td>W/B</td>\n",
       "      <td>4016.0</td>\n",
       "      <td>NaN</td>\n",
       "    </tr>\n",
       "    <tr>\n",
       "      <th>3</th>\n",
       "      <td>2014-01-02</td>\n",
       "      <td>504</td>\n",
       "      <td>2:22:00 PM</td>\n",
       "      <td>Thursday</td>\n",
       "      <td>King St. and Roncesvalles Ave.</td>\n",
       "      <td>Investigation</td>\n",
       "      <td>7.0</td>\n",
       "      <td>11.0</td>\n",
       "      <td>W/B</td>\n",
       "      <td>4175.0</td>\n",
       "      <td>NaN</td>\n",
       "    </tr>\n",
       "    <tr>\n",
       "      <th>4</th>\n",
       "      <td>2014-01-02</td>\n",
       "      <td>504</td>\n",
       "      <td>4:42:00 PM</td>\n",
       "      <td>Thursday</td>\n",
       "      <td>King and Bathurst</td>\n",
       "      <td>Utilized Off Route</td>\n",
       "      <td>3.0</td>\n",
       "      <td>6.0</td>\n",
       "      <td>E/B</td>\n",
       "      <td>4080.0</td>\n",
       "      <td>NaN</td>\n",
       "    </tr>\n",
       "  </tbody>\n",
       "</table>\n",
       "</div>"
      ],
      "text/plain": [
       "  Report_date  Route         Time       Day                        Location  \\\n",
       "0  2014-01-02    505   6:31:00 AM  Thursday         Dundas and Roncesvalles   \n",
       "1  2014-01-02    504  12:43:00 PM  Thursday                   King and Shaw   \n",
       "2  2014-01-02    501   2:01:00 PM  Thursday       Kingston road and Bingham   \n",
       "3  2014-01-02    504   2:22:00 PM  Thursday  King St. and Roncesvalles Ave.   \n",
       "4  2014-01-02    504   4:42:00 PM  Thursday               King and Bathurst   \n",
       "\n",
       "              Incident  Min_delay  Min_gap Direction  Vehicle  Incident_ID  \n",
       "0  Late Leaving Garage        4.0      8.0       E/B   4018.0          NaN  \n",
       "1   Utilized Off Route       20.0     22.0       E/B   4128.0          NaN  \n",
       "2              Held By       13.0     19.0       W/B   4016.0          NaN  \n",
       "3        Investigation        7.0     11.0       W/B   4175.0          NaN  \n",
       "4   Utilized Off Route        3.0      6.0       E/B   4080.0          NaN  "
      ]
     },
     "execution_count": 4,
     "metadata": {},
     "output_type": "execute_result"
    }
   ],
   "source": [
    "streetcar_df.head()"
   ]
  },
  {
   "cell_type": "code",
   "execution_count": 5,
   "metadata": {},
   "outputs": [
    {
     "data": {
      "text/html": [
       "<div>\n",
       "<style scoped>\n",
       "    .dataframe tbody tr th:only-of-type {\n",
       "        vertical-align: middle;\n",
       "    }\n",
       "\n",
       "    .dataframe tbody tr th {\n",
       "        vertical-align: top;\n",
       "    }\n",
       "\n",
       "    .dataframe thead th {\n",
       "        text-align: right;\n",
       "    }\n",
       "</style>\n",
       "<table border=\"1\" class=\"dataframe\">\n",
       "  <thead>\n",
       "    <tr style=\"text-align: right;\">\n",
       "      <th></th>\n",
       "      <th>Report_date</th>\n",
       "      <th>Time</th>\n",
       "      <th>Day</th>\n",
       "      <th>Station</th>\n",
       "      <th>Code</th>\n",
       "      <th>Min_delay</th>\n",
       "      <th>Min_gap</th>\n",
       "      <th>Bound</th>\n",
       "      <th>Line</th>\n",
       "      <th>Vehicle</th>\n",
       "    </tr>\n",
       "  </thead>\n",
       "  <tbody>\n",
       "    <tr>\n",
       "      <th>0</th>\n",
       "      <td>2014-01-01</td>\n",
       "      <td>12:21:00 AM</td>\n",
       "      <td>Wednesday</td>\n",
       "      <td>VICTORIA PARK STATION</td>\n",
       "      <td>MUPR1</td>\n",
       "      <td>55</td>\n",
       "      <td>60</td>\n",
       "      <td>W</td>\n",
       "      <td>BD</td>\n",
       "      <td>5111</td>\n",
       "    </tr>\n",
       "    <tr>\n",
       "      <th>1</th>\n",
       "      <td>2014-01-01</td>\n",
       "      <td>2:06:00 AM</td>\n",
       "      <td>Wednesday</td>\n",
       "      <td>HIGH PARK STATION</td>\n",
       "      <td>SUDP</td>\n",
       "      <td>3</td>\n",
       "      <td>7</td>\n",
       "      <td>W</td>\n",
       "      <td>BD</td>\n",
       "      <td>5001</td>\n",
       "    </tr>\n",
       "    <tr>\n",
       "      <th>2</th>\n",
       "      <td>2014-01-01</td>\n",
       "      <td>2:40:00 AM</td>\n",
       "      <td>Wednesday</td>\n",
       "      <td>SHEPPARD STATION</td>\n",
       "      <td>MUNCA</td>\n",
       "      <td>0</td>\n",
       "      <td>0</td>\n",
       "      <td>NaN</td>\n",
       "      <td>YU</td>\n",
       "      <td>0</td>\n",
       "    </tr>\n",
       "    <tr>\n",
       "      <th>3</th>\n",
       "      <td>2014-01-01</td>\n",
       "      <td>3:10:00 AM</td>\n",
       "      <td>Wednesday</td>\n",
       "      <td>LANSDOWNE STATION</td>\n",
       "      <td>SUDP</td>\n",
       "      <td>3</td>\n",
       "      <td>8</td>\n",
       "      <td>W</td>\n",
       "      <td>BD</td>\n",
       "      <td>5116</td>\n",
       "    </tr>\n",
       "    <tr>\n",
       "      <th>4</th>\n",
       "      <td>2014-01-01</td>\n",
       "      <td>3:20:00 AM</td>\n",
       "      <td>Wednesday</td>\n",
       "      <td>BLOOR STATION</td>\n",
       "      <td>MUSAN</td>\n",
       "      <td>5</td>\n",
       "      <td>10</td>\n",
       "      <td>S</td>\n",
       "      <td>YU</td>\n",
       "      <td>5386</td>\n",
       "    </tr>\n",
       "  </tbody>\n",
       "</table>\n",
       "</div>"
      ],
      "text/plain": [
       "  Report_date         Time        Day                Station   Code  \\\n",
       "0  2014-01-01  12:21:00 AM  Wednesday  VICTORIA PARK STATION  MUPR1   \n",
       "1  2014-01-01   2:06:00 AM  Wednesday      HIGH PARK STATION   SUDP   \n",
       "2  2014-01-01   2:40:00 AM  Wednesday       SHEPPARD STATION  MUNCA   \n",
       "3  2014-01-01   3:10:00 AM  Wednesday      LANSDOWNE STATION   SUDP   \n",
       "4  2014-01-01   3:20:00 AM  Wednesday          BLOOR STATION  MUSAN   \n",
       "\n",
       "   Min_delay  Min_gap Bound Line  Vehicle  \n",
       "0         55       60     W   BD     5111  \n",
       "1          3        7     W   BD     5001  \n",
       "2          0        0   NaN   YU        0  \n",
       "3          3        8     W   BD     5116  \n",
       "4          5       10     S   YU     5386  "
      ]
     },
     "execution_count": 5,
     "metadata": {},
     "output_type": "execute_result"
    }
   ],
   "source": [
    "subway_df.head()"
   ]
  },
  {
   "cell_type": "code",
   "execution_count": 6,
   "metadata": {},
   "outputs": [
    {
     "name": "stdout",
     "output_type": "stream",
     "text": [
      "There's 474070 records of incident and 11 columns in the bus dataset.\n",
      "There's 81936 records of incident and 11 columns in the streecar dataset.\n",
      "There's 131296 records of incident and 10 columns in the subway dataset.\n",
      "In total there are 687302 records of incident.\n"
     ]
    }
   ],
   "source": [
    "print(\"There's %s records of incident and %s columns in the bus dataset.\"%(bus_df.shape[0],bus_df.shape[1]))\n",
    "print(\"There's %s records of incident and %s columns in the streecar dataset.\"%(streetcar_df.shape[0],streetcar_df.shape[1]))\n",
    "print(\"There's %s records of incident and %s columns in the subway dataset.\"%(subway_df.shape[0],subway_df.shape[1]))\n",
    "print(\"In total there are %d records of incident.\"%(bus_df.shape[0]+streetcar_df.shape[0]+subway_df.shape[0]))"
   ]
  },
  {
   "cell_type": "markdown",
   "metadata": {},
   "source": [
    "### Missing values"
   ]
  },
  {
   "cell_type": "code",
   "execution_count": 7,
   "metadata": {},
   "outputs": [
    {
     "data": {
      "text/plain": [
       "Incident_ID    0.989149\n",
       "Vehicle        0.146468\n",
       "Direction      0.022102\n",
       "Min_gap        0.001972\n",
       "Incident       0.001972\n",
       "Location       0.001666\n",
       "Min_delay      0.000962\n",
       "dtype: float64"
      ]
     },
     "execution_count": 7,
     "metadata": {},
     "output_type": "execute_result"
    }
   ],
   "source": [
    "missing_vals_bus = bus_df.isnull().sum() / bus_df.shape[0]\n",
    "missing_vals_bus[missing_vals_bus > 0].sort_values(ascending=False)"
   ]
  },
  {
   "cell_type": "code",
   "execution_count": 8,
   "metadata": {},
   "outputs": [
    {
     "data": {
      "text/html": [
       "<div>\n",
       "<style scoped>\n",
       "    .dataframe tbody tr th:only-of-type {\n",
       "        vertical-align: middle;\n",
       "    }\n",
       "\n",
       "    .dataframe tbody tr th {\n",
       "        vertical-align: top;\n",
       "    }\n",
       "\n",
       "    .dataframe thead th {\n",
       "        text-align: right;\n",
       "    }\n",
       "</style>\n",
       "<table border=\"1\" class=\"dataframe\">\n",
       "  <thead>\n",
       "    <tr style=\"text-align: right;\">\n",
       "      <th></th>\n",
       "      <th>Report_date</th>\n",
       "      <th>Route</th>\n",
       "      <th>Time</th>\n",
       "      <th>Day</th>\n",
       "      <th>Location</th>\n",
       "      <th>Incident</th>\n",
       "      <th>Min_delay</th>\n",
       "      <th>Min_gap</th>\n",
       "      <th>Direction</th>\n",
       "      <th>Vehicle</th>\n",
       "      <th>Incident_ID</th>\n",
       "    </tr>\n",
       "  </thead>\n",
       "  <tbody>\n",
       "    <tr>\n",
       "      <th>411458</th>\n",
       "      <td>2019-04-01</td>\n",
       "      <td>76</td>\n",
       "      <td>12:27:00 AM</td>\n",
       "      <td>Monday</td>\n",
       "      <td>mimico and lakeshore</td>\n",
       "      <td>Investigation</td>\n",
       "      <td>25.0</td>\n",
       "      <td>50.0</td>\n",
       "      <td>S/B</td>\n",
       "      <td>7949.0</td>\n",
       "      <td>5.0</td>\n",
       "    </tr>\n",
       "    <tr>\n",
       "      <th>411459</th>\n",
       "      <td>2019-04-01</td>\n",
       "      <td>135</td>\n",
       "      <td>12:55:00 AM</td>\n",
       "      <td>Monday</td>\n",
       "      <td>MSTN</td>\n",
       "      <td>Mechanical</td>\n",
       "      <td>30.0</td>\n",
       "      <td>60.0</td>\n",
       "      <td>E/B</td>\n",
       "      <td>8448.0</td>\n",
       "      <td>1.0</td>\n",
       "    </tr>\n",
       "    <tr>\n",
       "      <th>411460</th>\n",
       "      <td>2019-04-01</td>\n",
       "      <td>87</td>\n",
       "      <td>1:05:00 AM</td>\n",
       "      <td>Monday</td>\n",
       "      <td>MSTN</td>\n",
       "      <td>Utilized Off Route</td>\n",
       "      <td>10.0</td>\n",
       "      <td>20.0</td>\n",
       "      <td>W/B</td>\n",
       "      <td>8937.0</td>\n",
       "      <td>4.0</td>\n",
       "    </tr>\n",
       "    <tr>\n",
       "      <th>411461</th>\n",
       "      <td>2019-04-01</td>\n",
       "      <td>64</td>\n",
       "      <td>1:23:00 AM</td>\n",
       "      <td>Monday</td>\n",
       "      <td>MSTN</td>\n",
       "      <td>Utilized Off Route</td>\n",
       "      <td>20.0</td>\n",
       "      <td>40.0</td>\n",
       "      <td>S/B</td>\n",
       "      <td>8948.0</td>\n",
       "      <td>4.0</td>\n",
       "    </tr>\n",
       "    <tr>\n",
       "      <th>411462</th>\n",
       "      <td>2019-04-01</td>\n",
       "      <td>320</td>\n",
       "      <td>1:30:00 AM</td>\n",
       "      <td>Monday</td>\n",
       "      <td>Yonge/Dundas</td>\n",
       "      <td>Diversion</td>\n",
       "      <td>243.0</td>\n",
       "      <td>273.0</td>\n",
       "      <td>B/W</td>\n",
       "      <td>NaN</td>\n",
       "      <td>3.0</td>\n",
       "    </tr>\n",
       "    <tr>\n",
       "      <th>...</th>\n",
       "      <td>...</td>\n",
       "      <td>...</td>\n",
       "      <td>...</td>\n",
       "      <td>...</td>\n",
       "      <td>...</td>\n",
       "      <td>...</td>\n",
       "      <td>...</td>\n",
       "      <td>...</td>\n",
       "      <td>...</td>\n",
       "      <td>...</td>\n",
       "      <td>...</td>\n",
       "    </tr>\n",
       "    <tr>\n",
       "      <th>416597</th>\n",
       "      <td>2019-04-30</td>\n",
       "      <td>34</td>\n",
       "      <td>8:47:00 PM</td>\n",
       "      <td>Tuesday</td>\n",
       "      <td>Eglinton &amp; Pharmacy</td>\n",
       "      <td>Investigation</td>\n",
       "      <td>7.0</td>\n",
       "      <td>14.0</td>\n",
       "      <td>E/B</td>\n",
       "      <td>8630.0</td>\n",
       "      <td>5.0</td>\n",
       "    </tr>\n",
       "    <tr>\n",
       "      <th>416598</th>\n",
       "      <td>2019-04-30</td>\n",
       "      <td>54</td>\n",
       "      <td>8:52:00 PM</td>\n",
       "      <td>Tuesday</td>\n",
       "      <td>Eglinton and Mt.Pleasant</td>\n",
       "      <td>Investigation</td>\n",
       "      <td>14.0</td>\n",
       "      <td>27.0</td>\n",
       "      <td>W/B</td>\n",
       "      <td>8641.0</td>\n",
       "      <td>5.0</td>\n",
       "    </tr>\n",
       "    <tr>\n",
       "      <th>416599</th>\n",
       "      <td>2019-04-30</td>\n",
       "      <td>26</td>\n",
       "      <td>9:57:00 PM</td>\n",
       "      <td>Tuesday</td>\n",
       "      <td>St. George Station</td>\n",
       "      <td>Mechanical</td>\n",
       "      <td>13.0</td>\n",
       "      <td>30.0</td>\n",
       "      <td>N/B</td>\n",
       "      <td>1026.0</td>\n",
       "      <td>1.0</td>\n",
       "    </tr>\n",
       "    <tr>\n",
       "      <th>416600</th>\n",
       "      <td>2019-04-30</td>\n",
       "      <td>168</td>\n",
       "      <td>10:00:00 PM</td>\n",
       "      <td>Tuesday</td>\n",
       "      <td>Entire Route</td>\n",
       "      <td>General Delay</td>\n",
       "      <td>20.0</td>\n",
       "      <td>30.0</td>\n",
       "      <td>B/W</td>\n",
       "      <td>NaN</td>\n",
       "      <td>8.0</td>\n",
       "    </tr>\n",
       "    <tr>\n",
       "      <th>416601</th>\n",
       "      <td>2019-04-30</td>\n",
       "      <td>86</td>\n",
       "      <td>11:08:00 PM</td>\n",
       "      <td>Tuesday</td>\n",
       "      <td>Eglinton at Brimley</td>\n",
       "      <td>Emergency Services</td>\n",
       "      <td>10.0</td>\n",
       "      <td>19.0</td>\n",
       "      <td>W/B</td>\n",
       "      <td>8786.0</td>\n",
       "      <td>6.0</td>\n",
       "    </tr>\n",
       "  </tbody>\n",
       "</table>\n",
       "<p>5144 rows × 11 columns</p>\n",
       "</div>"
      ],
      "text/plain": [
       "       Report_date  Route         Time      Day                  Location  \\\n",
       "411458  2019-04-01     76  12:27:00 AM   Monday      mimico and lakeshore   \n",
       "411459  2019-04-01    135  12:55:00 AM   Monday                      MSTN   \n",
       "411460  2019-04-01     87   1:05:00 AM   Monday                      MSTN   \n",
       "411461  2019-04-01     64   1:23:00 AM   Monday                      MSTN   \n",
       "411462  2019-04-01    320   1:30:00 AM   Monday              Yonge/Dundas   \n",
       "...            ...    ...          ...      ...                       ...   \n",
       "416597  2019-04-30     34   8:47:00 PM  Tuesday       Eglinton & Pharmacy   \n",
       "416598  2019-04-30     54   8:52:00 PM  Tuesday  Eglinton and Mt.Pleasant   \n",
       "416599  2019-04-30     26   9:57:00 PM  Tuesday        St. George Station   \n",
       "416600  2019-04-30    168  10:00:00 PM  Tuesday              Entire Route   \n",
       "416601  2019-04-30     86  11:08:00 PM  Tuesday       Eglinton at Brimley   \n",
       "\n",
       "                  Incident  Min_delay  Min_gap Direction  Vehicle  Incident_ID  \n",
       "411458       Investigation       25.0     50.0       S/B   7949.0          5.0  \n",
       "411459          Mechanical       30.0     60.0       E/B   8448.0          1.0  \n",
       "411460  Utilized Off Route       10.0     20.0       W/B   8937.0          4.0  \n",
       "411461  Utilized Off Route       20.0     40.0       S/B   8948.0          4.0  \n",
       "411462           Diversion      243.0    273.0       B/W      NaN          3.0  \n",
       "...                    ...        ...      ...       ...      ...          ...  \n",
       "416597       Investigation        7.0     14.0       E/B   8630.0          5.0  \n",
       "416598       Investigation       14.0     27.0       W/B   8641.0          5.0  \n",
       "416599          Mechanical       13.0     30.0       N/B   1026.0          1.0  \n",
       "416600       General Delay       20.0     30.0       B/W      NaN          8.0  \n",
       "416601  Emergency Services       10.0     19.0       W/B   8786.0          6.0  \n",
       "\n",
       "[5144 rows x 11 columns]"
      ]
     },
     "execution_count": 8,
     "metadata": {},
     "output_type": "execute_result"
    }
   ],
   "source": [
    "bus_df[bus_df['Incident_ID'].notnull()]"
   ]
  },
  {
   "cell_type": "code",
   "execution_count": 9,
   "metadata": {},
   "outputs": [
    {
     "data": {
      "text/plain": [
       "Incident_ID    0.989150\n",
       "Vehicle        0.057154\n",
       "Direction      0.003771\n",
       "Location       0.003185\n",
       "Min_gap        0.001465\n",
       "Min_delay      0.000952\n",
       "dtype: float64"
      ]
     },
     "execution_count": 9,
     "metadata": {},
     "output_type": "execute_result"
    }
   ],
   "source": [
    "missing_vals_streetcar = streetcar_df.isnull().sum() / streetcar_df.shape[0]\n",
    "missing_vals_streetcar[missing_vals_streetcar > 0].sort_values(ascending=False)"
   ]
  },
  {
   "cell_type": "code",
   "execution_count": 10,
   "metadata": {},
   "outputs": [
    {
     "data": {
      "text/html": [
       "<div>\n",
       "<style scoped>\n",
       "    .dataframe tbody tr th:only-of-type {\n",
       "        vertical-align: middle;\n",
       "    }\n",
       "\n",
       "    .dataframe tbody tr th {\n",
       "        vertical-align: top;\n",
       "    }\n",
       "\n",
       "    .dataframe thead th {\n",
       "        text-align: right;\n",
       "    }\n",
       "</style>\n",
       "<table border=\"1\" class=\"dataframe\">\n",
       "  <thead>\n",
       "    <tr style=\"text-align: right;\">\n",
       "      <th></th>\n",
       "      <th>Report_date</th>\n",
       "      <th>Route</th>\n",
       "      <th>Time</th>\n",
       "      <th>Day</th>\n",
       "      <th>Location</th>\n",
       "      <th>Incident</th>\n",
       "      <th>Min_delay</th>\n",
       "      <th>Min_gap</th>\n",
       "      <th>Direction</th>\n",
       "      <th>Vehicle</th>\n",
       "      <th>Incident_ID</th>\n",
       "    </tr>\n",
       "  </thead>\n",
       "  <tbody>\n",
       "    <tr>\n",
       "      <th>70760</th>\n",
       "      <td>2019-04-01</td>\n",
       "      <td>512</td>\n",
       "      <td>4:26:00 AM</td>\n",
       "      <td>Monday</td>\n",
       "      <td>Roncesvalles Yard.</td>\n",
       "      <td>Mechanical</td>\n",
       "      <td>10.0</td>\n",
       "      <td>20.0</td>\n",
       "      <td>E/B</td>\n",
       "      <td>4460.0</td>\n",
       "      <td>1.0</td>\n",
       "    </tr>\n",
       "    <tr>\n",
       "      <th>70761</th>\n",
       "      <td>2019-04-01</td>\n",
       "      <td>501</td>\n",
       "      <td>4:27:00 AM</td>\n",
       "      <td>Monday</td>\n",
       "      <td>Queen St. E and Woodfield Ave.</td>\n",
       "      <td>Mechanical</td>\n",
       "      <td>17.0</td>\n",
       "      <td>17.0</td>\n",
       "      <td>E/B</td>\n",
       "      <td>4189.0</td>\n",
       "      <td>1.0</td>\n",
       "    </tr>\n",
       "    <tr>\n",
       "      <th>70762</th>\n",
       "      <td>2019-04-01</td>\n",
       "      <td>501</td>\n",
       "      <td>4:37:00 AM</td>\n",
       "      <td>Monday</td>\n",
       "      <td>Queen St. E at Greenwood Ave.</td>\n",
       "      <td>Mechanical</td>\n",
       "      <td>5.0</td>\n",
       "      <td>10.0</td>\n",
       "      <td>W/B</td>\n",
       "      <td>4012.0</td>\n",
       "      <td>1.0</td>\n",
       "    </tr>\n",
       "    <tr>\n",
       "      <th>70763</th>\n",
       "      <td>2019-04-01</td>\n",
       "      <td>501</td>\n",
       "      <td>4:46:00 AM</td>\n",
       "      <td>Monday</td>\n",
       "      <td>Queen St E at Woodfield Ave</td>\n",
       "      <td>Mechanical</td>\n",
       "      <td>6.0</td>\n",
       "      <td>4.0</td>\n",
       "      <td>E/B</td>\n",
       "      <td>4039.0</td>\n",
       "      <td>1.0</td>\n",
       "    </tr>\n",
       "    <tr>\n",
       "      <th>70764</th>\n",
       "      <td>2019-04-01</td>\n",
       "      <td>510</td>\n",
       "      <td>5:00:00 AM</td>\n",
       "      <td>Monday</td>\n",
       "      <td>King and Spadina</td>\n",
       "      <td>Mechanical</td>\n",
       "      <td>11.0</td>\n",
       "      <td>NaN</td>\n",
       "      <td>N/B</td>\n",
       "      <td>4465.0</td>\n",
       "      <td>1.0</td>\n",
       "    </tr>\n",
       "    <tr>\n",
       "      <th>...</th>\n",
       "      <td>...</td>\n",
       "      <td>...</td>\n",
       "      <td>...</td>\n",
       "      <td>...</td>\n",
       "      <td>...</td>\n",
       "      <td>...</td>\n",
       "      <td>...</td>\n",
       "      <td>...</td>\n",
       "      <td>...</td>\n",
       "      <td>...</td>\n",
       "      <td>...</td>\n",
       "    </tr>\n",
       "    <tr>\n",
       "      <th>71644</th>\n",
       "      <td>2019-04-30</td>\n",
       "      <td>503</td>\n",
       "      <td>4:39:00 PM</td>\n",
       "      <td>Tuesday</td>\n",
       "      <td>King and Church</td>\n",
       "      <td>Utilized Off Route</td>\n",
       "      <td>12.0</td>\n",
       "      <td>24.0</td>\n",
       "      <td>W/B</td>\n",
       "      <td>7951.0</td>\n",
       "      <td>4.0</td>\n",
       "    </tr>\n",
       "    <tr>\n",
       "      <th>71645</th>\n",
       "      <td>2019-04-30</td>\n",
       "      <td>705</td>\n",
       "      <td>5:36:00 PM</td>\n",
       "      <td>Tuesday</td>\n",
       "      <td>Queen and Sherbourne</td>\n",
       "      <td>Investigation</td>\n",
       "      <td>5.0</td>\n",
       "      <td>9.0</td>\n",
       "      <td>W/B</td>\n",
       "      <td>4001.0</td>\n",
       "      <td>5.0</td>\n",
       "    </tr>\n",
       "    <tr>\n",
       "      <th>71646</th>\n",
       "      <td>2019-04-30</td>\n",
       "      <td>505</td>\n",
       "      <td>6:11:00 PM</td>\n",
       "      <td>Tuesday</td>\n",
       "      <td>McCaul and Dundas</td>\n",
       "      <td>Investigation</td>\n",
       "      <td>4.0</td>\n",
       "      <td>8.0</td>\n",
       "      <td>W/B</td>\n",
       "      <td>7945.0</td>\n",
       "      <td>5.0</td>\n",
       "    </tr>\n",
       "    <tr>\n",
       "      <th>71647</th>\n",
       "      <td>2019-04-30</td>\n",
       "      <td>510</td>\n",
       "      <td>9:46:00 PM</td>\n",
       "      <td>Tuesday</td>\n",
       "      <td>Spadna Stn</td>\n",
       "      <td>Emergency Services</td>\n",
       "      <td>9.0</td>\n",
       "      <td>18.0</td>\n",
       "      <td>N/B</td>\n",
       "      <td>4467.0</td>\n",
       "      <td>6.0</td>\n",
       "    </tr>\n",
       "    <tr>\n",
       "      <th>71648</th>\n",
       "      <td>2019-04-30</td>\n",
       "      <td>506</td>\n",
       "      <td>11:15:00 PM</td>\n",
       "      <td>Tuesday</td>\n",
       "      <td>Dundas and Howard Park</td>\n",
       "      <td>Investigation</td>\n",
       "      <td>21.0</td>\n",
       "      <td>29.0</td>\n",
       "      <td>E/B</td>\n",
       "      <td>4123.0</td>\n",
       "      <td>5.0</td>\n",
       "    </tr>\n",
       "  </tbody>\n",
       "</table>\n",
       "<p>889 rows × 11 columns</p>\n",
       "</div>"
      ],
      "text/plain": [
       "      Report_date  Route         Time      Day  \\\n",
       "70760  2019-04-01    512   4:26:00 AM   Monday   \n",
       "70761  2019-04-01    501   4:27:00 AM   Monday   \n",
       "70762  2019-04-01    501   4:37:00 AM   Monday   \n",
       "70763  2019-04-01    501   4:46:00 AM   Monday   \n",
       "70764  2019-04-01    510   5:00:00 AM   Monday   \n",
       "...           ...    ...          ...      ...   \n",
       "71644  2019-04-30    503   4:39:00 PM  Tuesday   \n",
       "71645  2019-04-30    705   5:36:00 PM  Tuesday   \n",
       "71646  2019-04-30    505   6:11:00 PM  Tuesday   \n",
       "71647  2019-04-30    510   9:46:00 PM  Tuesday   \n",
       "71648  2019-04-30    506  11:15:00 PM  Tuesday   \n",
       "\n",
       "                             Location            Incident  Min_delay  Min_gap  \\\n",
       "70760              Roncesvalles Yard.          Mechanical       10.0     20.0   \n",
       "70761  Queen St. E and Woodfield Ave.          Mechanical       17.0     17.0   \n",
       "70762   Queen St. E at Greenwood Ave.          Mechanical        5.0     10.0   \n",
       "70763     Queen St E at Woodfield Ave          Mechanical        6.0      4.0   \n",
       "70764                King and Spadina          Mechanical       11.0      NaN   \n",
       "...                               ...                 ...        ...      ...   \n",
       "71644                 King and Church  Utilized Off Route       12.0     24.0   \n",
       "71645            Queen and Sherbourne       Investigation        5.0      9.0   \n",
       "71646               McCaul and Dundas       Investigation        4.0      8.0   \n",
       "71647                      Spadna Stn  Emergency Services        9.0     18.0   \n",
       "71648          Dundas and Howard Park       Investigation       21.0     29.0   \n",
       "\n",
       "      Direction  Vehicle  Incident_ID  \n",
       "70760       E/B   4460.0          1.0  \n",
       "70761       E/B   4189.0          1.0  \n",
       "70762       W/B   4012.0          1.0  \n",
       "70763       E/B   4039.0          1.0  \n",
       "70764       N/B   4465.0          1.0  \n",
       "...         ...      ...          ...  \n",
       "71644       W/B   7951.0          4.0  \n",
       "71645       W/B   4001.0          5.0  \n",
       "71646       W/B   7945.0          5.0  \n",
       "71647       N/B   4467.0          6.0  \n",
       "71648       E/B   4123.0          5.0  \n",
       "\n",
       "[889 rows x 11 columns]"
      ]
     },
     "execution_count": 10,
     "metadata": {},
     "output_type": "execute_result"
    }
   ],
   "source": [
    "# Incident ID only recorded on April 2019 too\n",
    "streetcar_df[streetcar_df['Incident_ID'].notnull()]"
   ]
  },
  {
   "cell_type": "code",
   "execution_count": 11,
   "metadata": {},
   "outputs": [
    {
     "data": {
      "text/plain": [
       "Bound    0.220121\n",
       "Line     0.003747\n",
       "Code     0.000008\n",
       "dtype: float64"
      ]
     },
     "execution_count": 11,
     "metadata": {},
     "output_type": "execute_result"
    }
   ],
   "source": [
    "missing_vals_subway = subway_df.isnull().sum() / subway_df.shape[0]\n",
    "missing_vals_subway[missing_vals_subway > 0].sort_values(ascending=False)"
   ]
  },
  {
   "cell_type": "code",
   "execution_count": 12,
   "metadata": {},
   "outputs": [
    {
     "data": {
      "text/html": [
       "<div>\n",
       "<style scoped>\n",
       "    .dataframe tbody tr th:only-of-type {\n",
       "        vertical-align: middle;\n",
       "    }\n",
       "\n",
       "    .dataframe tbody tr th {\n",
       "        vertical-align: top;\n",
       "    }\n",
       "\n",
       "    .dataframe thead th {\n",
       "        text-align: right;\n",
       "    }\n",
       "</style>\n",
       "<table border=\"1\" class=\"dataframe\">\n",
       "  <thead>\n",
       "    <tr style=\"text-align: right;\">\n",
       "      <th></th>\n",
       "      <th>Report_date</th>\n",
       "      <th>Time</th>\n",
       "      <th>Day</th>\n",
       "      <th>Station</th>\n",
       "      <th>Code</th>\n",
       "      <th>Min_delay</th>\n",
       "      <th>Min_gap</th>\n",
       "      <th>Bound</th>\n",
       "      <th>Line</th>\n",
       "      <th>Vehicle</th>\n",
       "    </tr>\n",
       "  </thead>\n",
       "  <tbody>\n",
       "    <tr>\n",
       "      <th>2</th>\n",
       "      <td>2014-01-01</td>\n",
       "      <td>2:40:00 AM</td>\n",
       "      <td>Wednesday</td>\n",
       "      <td>SHEPPARD STATION</td>\n",
       "      <td>MUNCA</td>\n",
       "      <td>0</td>\n",
       "      <td>0</td>\n",
       "      <td>NaN</td>\n",
       "      <td>YU</td>\n",
       "      <td>0</td>\n",
       "    </tr>\n",
       "    <tr>\n",
       "      <th>6</th>\n",
       "      <td>2014-01-01</td>\n",
       "      <td>7:31:00 AM</td>\n",
       "      <td>Wednesday</td>\n",
       "      <td>NORTH YORK CTR STATION</td>\n",
       "      <td>MUNCA</td>\n",
       "      <td>0</td>\n",
       "      <td>0</td>\n",
       "      <td>NaN</td>\n",
       "      <td>YU</td>\n",
       "      <td>0</td>\n",
       "    </tr>\n",
       "    <tr>\n",
       "      <th>7</th>\n",
       "      <td>2014-01-01</td>\n",
       "      <td>7:32:00 AM</td>\n",
       "      <td>Wednesday</td>\n",
       "      <td>SHEPPARD STATION</td>\n",
       "      <td>MUNCA</td>\n",
       "      <td>0</td>\n",
       "      <td>0</td>\n",
       "      <td>NaN</td>\n",
       "      <td>YU</td>\n",
       "      <td>0</td>\n",
       "    </tr>\n",
       "    <tr>\n",
       "      <th>8</th>\n",
       "      <td>2014-01-01</td>\n",
       "      <td>7:34:00 AM</td>\n",
       "      <td>Wednesday</td>\n",
       "      <td>QUEEN STATION</td>\n",
       "      <td>MUNCA</td>\n",
       "      <td>0</td>\n",
       "      <td>0</td>\n",
       "      <td>NaN</td>\n",
       "      <td>YU</td>\n",
       "      <td>0</td>\n",
       "    </tr>\n",
       "    <tr>\n",
       "      <th>9</th>\n",
       "      <td>2014-01-01</td>\n",
       "      <td>7:34:00 AM</td>\n",
       "      <td>Wednesday</td>\n",
       "      <td>RUNNYMEDE STATION</td>\n",
       "      <td>MUNCA</td>\n",
       "      <td>0</td>\n",
       "      <td>0</td>\n",
       "      <td>NaN</td>\n",
       "      <td>BD</td>\n",
       "      <td>0</td>\n",
       "    </tr>\n",
       "    <tr>\n",
       "      <th>...</th>\n",
       "      <td>...</td>\n",
       "      <td>...</td>\n",
       "      <td>...</td>\n",
       "      <td>...</td>\n",
       "      <td>...</td>\n",
       "      <td>...</td>\n",
       "      <td>...</td>\n",
       "      <td>...</td>\n",
       "      <td>...</td>\n",
       "      <td>...</td>\n",
       "    </tr>\n",
       "    <tr>\n",
       "      <th>131281</th>\n",
       "      <td>2020-06-30</td>\n",
       "      <td>1:08:00 PM</td>\n",
       "      <td>Tuesday</td>\n",
       "      <td>DUPONT STATION</td>\n",
       "      <td>PUMEL</td>\n",
       "      <td>0</td>\n",
       "      <td>0</td>\n",
       "      <td>NaN</td>\n",
       "      <td>YU</td>\n",
       "      <td>0</td>\n",
       "    </tr>\n",
       "    <tr>\n",
       "      <th>131290</th>\n",
       "      <td>2020-06-30</td>\n",
       "      <td>8:33:00 PM</td>\n",
       "      <td>Tuesday</td>\n",
       "      <td>ROYAL YORK STATION</td>\n",
       "      <td>MUIS</td>\n",
       "      <td>0</td>\n",
       "      <td>0</td>\n",
       "      <td>NaN</td>\n",
       "      <td>BD</td>\n",
       "      <td>0</td>\n",
       "    </tr>\n",
       "    <tr>\n",
       "      <th>131291</th>\n",
       "      <td>2020-06-30</td>\n",
       "      <td>9:02:00 PM</td>\n",
       "      <td>Tuesday</td>\n",
       "      <td>KENNEDY BD STATION</td>\n",
       "      <td>MUIS</td>\n",
       "      <td>0</td>\n",
       "      <td>0</td>\n",
       "      <td>NaN</td>\n",
       "      <td>BD</td>\n",
       "      <td>0</td>\n",
       "    </tr>\n",
       "    <tr>\n",
       "      <th>131293</th>\n",
       "      <td>2020-06-30</td>\n",
       "      <td>10:00:00 PM</td>\n",
       "      <td>Tuesday</td>\n",
       "      <td>YONGE-UNIVERSITY AND B</td>\n",
       "      <td>MUO</td>\n",
       "      <td>0</td>\n",
       "      <td>0</td>\n",
       "      <td>NaN</td>\n",
       "      <td>YU/BD</td>\n",
       "      <td>0</td>\n",
       "    </tr>\n",
       "    <tr>\n",
       "      <th>131295</th>\n",
       "      <td>2020-06-30</td>\n",
       "      <td>11:08:00 PM</td>\n",
       "      <td>Tuesday</td>\n",
       "      <td>COXWELL STATION</td>\n",
       "      <td>MUIS</td>\n",
       "      <td>0</td>\n",
       "      <td>0</td>\n",
       "      <td>NaN</td>\n",
       "      <td>BD</td>\n",
       "      <td>0</td>\n",
       "    </tr>\n",
       "  </tbody>\n",
       "</table>\n",
       "<p>28901 rows × 10 columns</p>\n",
       "</div>"
      ],
      "text/plain": [
       "       Report_date         Time        Day                 Station   Code  \\\n",
       "2       2014-01-01   2:40:00 AM  Wednesday        SHEPPARD STATION  MUNCA   \n",
       "6       2014-01-01   7:31:00 AM  Wednesday  NORTH YORK CTR STATION  MUNCA   \n",
       "7       2014-01-01   7:32:00 AM  Wednesday        SHEPPARD STATION  MUNCA   \n",
       "8       2014-01-01   7:34:00 AM  Wednesday           QUEEN STATION  MUNCA   \n",
       "9       2014-01-01   7:34:00 AM  Wednesday       RUNNYMEDE STATION  MUNCA   \n",
       "...            ...          ...        ...                     ...    ...   \n",
       "131281  2020-06-30   1:08:00 PM    Tuesday          DUPONT STATION  PUMEL   \n",
       "131290  2020-06-30   8:33:00 PM    Tuesday      ROYAL YORK STATION   MUIS   \n",
       "131291  2020-06-30   9:02:00 PM    Tuesday      KENNEDY BD STATION   MUIS   \n",
       "131293  2020-06-30  10:00:00 PM    Tuesday  YONGE-UNIVERSITY AND B    MUO   \n",
       "131295  2020-06-30  11:08:00 PM    Tuesday         COXWELL STATION   MUIS   \n",
       "\n",
       "        Min_delay  Min_gap Bound   Line  Vehicle  \n",
       "2               0        0   NaN     YU        0  \n",
       "6               0        0   NaN     YU        0  \n",
       "7               0        0   NaN     YU        0  \n",
       "8               0        0   NaN     YU        0  \n",
       "9               0        0   NaN     BD        0  \n",
       "...           ...      ...   ...    ...      ...  \n",
       "131281          0        0   NaN     YU        0  \n",
       "131290          0        0   NaN     BD        0  \n",
       "131291          0        0   NaN     BD        0  \n",
       "131293          0        0   NaN  YU/BD        0  \n",
       "131295          0        0   NaN     BD        0  \n",
       "\n",
       "[28901 rows x 10 columns]"
      ]
     },
     "execution_count": 12,
     "metadata": {},
     "output_type": "execute_result"
    }
   ],
   "source": [
    "subway_df[subway_df['Bound'].isnull()]"
   ]
  },
  {
   "cell_type": "markdown",
   "metadata": {},
   "source": [
    "- One thing very strange is that both the bus and street car datasets only have Incident ID recorded on April 2019.\n",
    "- Bound column in the subway dataset also has quite a lot of missing values."
   ]
  },
  {
   "cell_type": "code",
   "execution_count": 13,
   "metadata": {},
   "outputs": [
    {
     "name": "stdout",
     "output_type": "stream",
     "text": [
      "<class 'pandas.core.frame.DataFrame'>\n",
      "RangeIndex: 474070 entries, 0 to 474069\n",
      "Data columns (total 11 columns):\n",
      " #   Column       Non-Null Count   Dtype  \n",
      "---  ------       --------------   -----  \n",
      " 0   Report_date  474070 non-null  object \n",
      " 1   Route        474070 non-null  int64  \n",
      " 2   Time         474070 non-null  object \n",
      " 3   Day          474070 non-null  object \n",
      " 4   Location     473280 non-null  object \n",
      " 5   Incident     473135 non-null  object \n",
      " 6   Min_delay    473614 non-null  float64\n",
      " 7   Min_gap      473135 non-null  float64\n",
      " 8   Direction    463592 non-null  object \n",
      " 9   Vehicle      404634 non-null  float64\n",
      " 10  Incident_ID  5144 non-null    float64\n",
      "dtypes: float64(4), int64(1), object(6)\n",
      "memory usage: 39.8+ MB\n"
     ]
    }
   ],
   "source": [
    "bus_df.info()"
   ]
  },
  {
   "cell_type": "markdown",
   "metadata": {},
   "source": [
    "### Report date counts"
   ]
  },
  {
   "cell_type": "code",
   "execution_count": 14,
   "metadata": {},
   "outputs": [
    {
     "data": {
      "text/plain": [
       "622"
      ]
     },
     "execution_count": 14,
     "metadata": {},
     "output_type": "execute_result"
    }
   ],
   "source": [
    "bus_df.Report_date.value_counts().max()"
   ]
  },
  {
   "cell_type": "code",
   "execution_count": 15,
   "metadata": {},
   "outputs": [
    {
     "data": {
      "image/png": "[encoded data removed]",
      "text/plain": [
       "<Figure size 1440x864 with 6 Axes>"
      ]
     },
     "metadata": {
      "needs_background": "light"
     },
     "output_type": "display_data"
    }
   ],
   "source": [
    "Report_date_counts_bus = bus_df.Report_date.value_counts()\n",
    "Report_date_counts_streetcar = streetcar_df.Report_date.value_counts()\n",
    "Report_date_counts_subway = subway_df.Report_date.value_counts()\n",
    "fig, ax = plt.subplots(2,3, figsize=(20,12))\n",
    "\n",
    "sns.distplot(Report_date_counts_bus, ax=ax[0,0], color=\"orangered\", kde=True);\n",
    "ax[0,0].set_xlabel(\"Counts\")\n",
    "ax[0,0].set_ylabel(\"Frequency\")\n",
    "ax[0,0].set_title(\"Report date value counts in bus\");\n",
    "\n",
    "sns.distplot(Report_date_counts_streetcar, ax=ax[0,1], color=\"lightseagreen\", kde=True);\n",
    "ax[0,1].set_xlabel(\"Counts\")\n",
    "ax[0,1].set_ylabel(\"Frequency\")\n",
    "ax[0,1].set_title(\"Report date value counts in streetcar\");\n",
    "\n",
    "sns.distplot(Report_date_counts_subway, ax=ax[0,2], color=\"royalblue\", kde=True);\n",
    "ax[0,2].set_xlabel(\"Counts\")\n",
    "ax[0,2].set_ylabel(\"Frequency\")\n",
    "ax[0,2].set_title(\"Report date value counts in subway\");\n",
    "\n",
    "sns.boxplot(Report_date_counts_bus, ax=ax[1,0], color=\"orangered\");\n",
    "sns.boxplot(Report_date_counts_streetcar, ax=ax[1,1], color=\"lightseagreen\");\n",
    "sns.boxplot(Report_date_counts_subway, ax=ax[1,2], color=\"royalblue\");\n"
   ]
  },
  {
   "cell_type": "code",
   "execution_count": 16,
   "metadata": {},
   "outputs": [
    {
     "data": {
      "text/plain": [
       "21.0"
      ]
     },
     "execution_count": 16,
     "metadata": {},
     "output_type": "execute_result"
    }
   ],
   "source": [
    "np.quantile(Report_date_counts_subway, 0.75) - np.quantile(Report_date_counts_subway, 0.25)"
   ]
  },
  {
   "cell_type": "markdown",
   "metadata": {},
   "source": [
    "### Route counts"
   ]
  },
  {
   "cell_type": "raw",
   "metadata": {},
   "source": [
    "fig, ax = plt.subplots(1,2,figsize=(20,5))\n",
    "\n",
    "sns.distplot(bus_df.Route, color=\"orangered\", ax=ax[0]);\n",
    "labels = ax[0].get_xticklabels();\n",
    "ax[0].set_xticklabels(labels, rotation=90);\n",
    "ax[0].set_xlabel(\"\");\n",
    "ax[0].set_title(\"Age distribution in train\");\n",
    "\n",
    "sns.distplot(streetcar_df.Route, color=\"lightseagreen\", ax=ax[1]);\n",
    "labels = ax[1].get_xticklabels();\n",
    "ax[1].set_xticklabels(labels, rotation=90);\n",
    "ax[1].set_xlabel(\"\");\n",
    "ax[1].set_title(\"Age distribution in test\");"
   ]
  },
  {
   "cell_type": "markdown",
   "metadata": {},
   "source": [
    "### Time counts"
   ]
  },
  {
   "cell_type": "code",
   "execution_count": 17,
   "metadata": {},
   "outputs": [
    {
     "data": {
      "text/plain": [
       "3:00:00 PM    9519\n",
       "4:00:00 PM    9051\n",
       "8:00:00 AM    6599\n",
       "2:00:00 PM    6373\n",
       "1:00:00 PM    4263\n",
       "              ... \n",
       "4:19:00 AM      19\n",
       "3:59:00 AM      19\n",
       "3:31:00 AM      19\n",
       "3:56:00 AM      18\n",
       "3:49:00 AM      15\n",
       "Name: Time, Length: 1440, dtype: int64"
      ]
     },
     "execution_count": 17,
     "metadata": {},
     "output_type": "execute_result"
    }
   ],
   "source": [
    "bus_df.Time.value_counts()"
   ]
  },
  {
   "cell_type": "code",
   "execution_count": 18,
   "metadata": {},
   "outputs": [
    {
     "data": {
      "image/png": "[encoded data removed]",
      "text/plain": [
       "<Figure size 1440x864 with 6 Axes>"
      ]
     },
     "metadata": {
      "needs_background": "light"
     },
     "output_type": "display_data"
    }
   ],
   "source": [
    "Time_counts_bus = bus_df.Time.value_counts()\n",
    "Time_counts_streetcar = streetcar_df.Time.value_counts()\n",
    "Time_counts_subway = subway_df.Time.value_counts()\n",
    "fig, ax = plt.subplots(2,3, figsize=(20,12))\n",
    "\n",
    "sns.distplot(Time_counts_bus, ax=ax[0,0], color=\"orangered\", kde=True);\n",
    "ax[0,0].set_xlabel(\"Counts\")\n",
    "ax[0,0].set_ylabel(\"Frequency\")\n",
    "ax[0,0].set_title(\"Time value counts in bus\");\n",
    "\n",
    "sns.distplot(Time_counts_streetcar, ax=ax[0,1], color=\"lightseagreen\", kde=True);\n",
    "ax[0,1].set_xlabel(\"Counts\")\n",
    "ax[0,1].set_ylabel(\"Frequency\")\n",
    "ax[0,1].set_title(\"Time value counts in streetcar\");\n",
    "\n",
    "sns.distplot(Time_counts_subway, ax=ax[0,2], color=\"royalblue\", kde=True);\n",
    "ax[0,2].set_xlabel(\"Counts\")\n",
    "ax[0,2].set_ylabel(\"Frequency\")\n",
    "ax[0,2].set_title(\"Time value counts in subway\");\n",
    "\n",
    "sns.boxplot(Time_counts_bus, ax=ax[1,0], color=\"orangered\");\n",
    "sns.boxplot(Time_counts_streetcar, ax=ax[1,1], color=\"lightseagreen\");\n",
    "sns.boxplot(Time_counts_subway, ax=ax[1,2], color=\"royalblue\");"
   ]
  },
  {
   "cell_type": "code",
   "execution_count": 19,
   "metadata": {},
   "outputs": [
    {
     "data": {
      "image/png": "[encoded data removed]",
      "text/plain": [
       "<Figure size 1800x360 with 3 Axes>"
      ]
     },
     "metadata": {
      "needs_background": "light"
     },
     "output_type": "display_data"
    }
   ],
   "source": [
    "fig, ax = plt.subplots(1,3,figsize=(25,5))\n",
    "sns.countplot(bus_df.Day, palette=\"Reds_r\", ax=ax[0], order = bus_df.Day.value_counts().index);\n",
    "ax[0].set_xlabel('')\n",
    "ax[0].set_title(\"Bus incident day counts\");\n",
    "\n",
    "sns.countplot(streetcar_df.Day, palette=\"Greens_r\", ax=ax[1], order = streetcar_df.Day.value_counts().index);\n",
    "ax[1].set_xlabel('')\n",
    "ax[1].set_ylabel('')\n",
    "ax[1].set_title(\"Street car incident day counts\");\n",
    "\n",
    "sns.countplot(subway_df.Day, palette=\"Blues_r\", ax=ax[2], order = subway_df.Day.value_counts().index);\n",
    "ax[2].set_xlabel('')\n",
    "ax[2].set_ylabel('')\n",
    "ax[2].set_title(\"subway incident day counts\");"
   ]
  },
  {
   "cell_type": "markdown",
   "metadata": {},
   "source": [
    "### Top 10 Location and station"
   ]
  },
  {
   "cell_type": "code",
   "execution_count": 20,
   "metadata": {},
   "outputs": [
    {
     "data": {
      "image/png": "[encoded data removed]",
      "text/plain": [
       "<Figure size 2160x360 with 2 Axes>"
      ]
     },
     "metadata": {
      "needs_background": "light"
     },
     "output_type": "display_data"
    }
   ],
   "source": [
    "fig, ax = plt.subplots(1,2,figsize=(30,5))\n",
    "\n",
    "sns.countplot(y=bus_df.Location, order= bus_df.Location.value_counts().iloc[:10].index, ax=ax[0], color=\"orangered\");\n",
    "ax[0].set_title(\"Bus Incident Location\");\n",
    "# labels = ax[0].get_xticklabels();\n",
    "# ax[0].set_xticklabels(labels, rotation=90)\n",
    "\n",
    "sns.countplot(y=streetcar_df.Location, order= streetcar_df.Location.value_counts().iloc[:10].index, ax=ax[1], color=\"lightseagreen\");\n",
    "ax[1].set_title(\"Street Car Incident Location\");\n",
    "ax[1].set_xlabel('');\n",
    "ax[1].set_ylabel('');"
   ]
  },
  {
   "cell_type": "code",
   "execution_count": 21,
   "metadata": {},
   "outputs": [
    {
     "data": {
      "image/png": "[encoded data removed]",
      "text/plain": [
       "<Figure size 1080x360 with 1 Axes>"
      ]
     },
     "metadata": {
      "needs_background": "light"
     },
     "output_type": "display_data"
    }
   ],
   "source": [
    "fig, ax =plt.subplots(1,1,figsize=(15,5))\n",
    "sns.countplot(y=subway_df.Station, order= subway_df.Station.value_counts().iloc[:10].index, ax=ax, color=\"royalblue\");\n",
    "ax.set_title(\"Subway Incident Location\");"
   ]
  },
  {
   "cell_type": "markdown",
   "metadata": {},
   "source": [
    "Although Younge University Line is the fourth on our list, there's actually no delays on the record"
   ]
  },
  {
   "cell_type": "markdown",
   "metadata": {},
   "source": [
    "### Top 10 Incident and code"
   ]
  },
  {
   "cell_type": "code",
   "execution_count": 22,
   "metadata": {},
   "outputs": [
    {
     "data": {
      "image/png": "[encoded data removed]",
      "text/plain": [
       "<Figure size 1800x360 with 2 Axes>"
      ]
     },
     "metadata": {
      "needs_background": "light"
     },
     "output_type": "display_data"
    }
   ],
   "source": [
    "fig, ax = plt.subplots(1,2,figsize=(25,5))\n",
    "\n",
    "sns.countplot(y=bus_df.Incident, order= bus_df.Incident.value_counts().iloc[:10].index, ax=ax[0], color=\"orangered\");\n",
    "ax[0].set_title(\"Bus Incident\");\n",
    "# labels = ax[0].get_xticklabels();\n",
    "# ax[0].set_xticklabels(labels, rotation=90)\n",
    "\n",
    "sns.countplot(y=streetcar_df.Incident, order= streetcar_df.Incident.value_counts().iloc[:10].index, ax=ax[1], color=\"lightseagreen\");\n",
    "ax[1].set_xlabel('');\n",
    "ax[1].set_ylabel('');"
   ]
  },
  {
   "cell_type": "code",
   "execution_count": 23,
   "metadata": {},
   "outputs": [
    {
     "data": {
      "image/png": "[encoded data removed]",
      "text/plain": [
       "<Figure size 720x360 with 1 Axes>"
      ]
     },
     "metadata": {
      "needs_background": "light"
     },
     "output_type": "display_data"
    }
   ],
   "source": [
    "fig, ax = plt.subplots(1,1,figsize=(10,5))\n",
    "sns.countplot(y=subway_df.Code, order= subway_df.Code.value_counts().iloc[:10].index, color=\"royalblue\")\n",
    "ax.set_xlabel('');"
   ]
  },
  {
   "cell_type": "markdown",
   "metadata": {},
   "source": [
    "Read more about subway delay:\n",
    "https://www.lowandhigh.xyz/magazine/2019/2/7/dont-be-so-quick-to-blame-the-ttc-for-delays-on-the-subway#:~:text=Miscellaneous%20speed%20control%20is%20when,control%20to%20reset%20and%20proceed\n",
    "\n",
    "According to TTC subway delay code description:\n",
    "- MUSC: Miscellaneous Speed Control\n",
    "- TUSC: Operator Overspeeding\n",
    "- MUPAA: Passenger Assistance Alarm Activated - No Trouble Found\n",
    "- MUIS: Injured or ill Customer (In Station) - Transported\n",
    "- SUDP: Disorderly Patron\n",
    "- MUO: Miscellaneous Other\n",
    "- MUGD: Miscellaneous General Delays\n",
    "- MUIR: Injured or ill Customer (On Train) - Medical Aid Refused\n",
    "- MUI: Injured or ill Customer (On Train) - Transported\n",
    "- TUMVS: Operator Violated Signal\n"
   ]
  },
  {
   "cell_type": "markdown",
   "metadata": {},
   "source": [
    "### Min delay"
   ]
  },
  {
   "cell_type": "raw",
   "metadata": {},
   "source": [
    "Drop nan values, before plotting the Min delay column."
   ]
  },
  {
   "cell_type": "code",
   "execution_count": 24,
   "metadata": {},
   "outputs": [
    {
     "data": {
      "text/html": [
       "<div>\n",
       "<style scoped>\n",
       "    .dataframe tbody tr th:only-of-type {\n",
       "        vertical-align: middle;\n",
       "    }\n",
       "\n",
       "    .dataframe tbody tr th {\n",
       "        vertical-align: top;\n",
       "    }\n",
       "\n",
       "    .dataframe thead th {\n",
       "        text-align: right;\n",
       "    }\n",
       "</style>\n",
       "<table border=\"1\" class=\"dataframe\">\n",
       "  <thead>\n",
       "    <tr style=\"text-align: right;\">\n",
       "      <th></th>\n",
       "      <th>Report_date</th>\n",
       "      <th>Route</th>\n",
       "      <th>Time</th>\n",
       "      <th>Day</th>\n",
       "      <th>Location</th>\n",
       "      <th>Incident</th>\n",
       "      <th>Min_delay</th>\n",
       "      <th>Min_gap</th>\n",
       "      <th>Direction</th>\n",
       "      <th>Vehicle</th>\n",
       "      <th>Incident_ID</th>\n",
       "    </tr>\n",
       "  </thead>\n",
       "  <tbody>\n",
       "    <tr>\n",
       "      <th>2930</th>\n",
       "      <td>2014-01-08</td>\n",
       "      <td>85</td>\n",
       "      <td>11:31:00 PM</td>\n",
       "      <td>Wednesday</td>\n",
       "      <td>Sheppard and Victoria Pk</td>\n",
       "      <td>Utilized Off Route</td>\n",
       "      <td>NaN</td>\n",
       "      <td>0.0</td>\n",
       "      <td>E</td>\n",
       "      <td>1127.0</td>\n",
       "      <td>NaN</td>\n",
       "    </tr>\n",
       "    <tr>\n",
       "      <th>4334</th>\n",
       "      <td>2014-01-14</td>\n",
       "      <td>89</td>\n",
       "      <td>6:43:00 AM</td>\n",
       "      <td>Tuesday</td>\n",
       "      <td>Mounnt Dennis Garage</td>\n",
       "      <td>Mechanical</td>\n",
       "      <td>NaN</td>\n",
       "      <td>0.0</td>\n",
       "      <td>n/b</td>\n",
       "      <td>1600.0</td>\n",
       "      <td>NaN</td>\n",
       "    </tr>\n",
       "    <tr>\n",
       "      <th>8895</th>\n",
       "      <td>2014-01-29</td>\n",
       "      <td>300</td>\n",
       "      <td>6:22:00 AM</td>\n",
       "      <td>Wednesday</td>\n",
       "      <td>Lansdowne station</td>\n",
       "      <td>Investigation</td>\n",
       "      <td>NaN</td>\n",
       "      <td>NaN</td>\n",
       "      <td>W</td>\n",
       "      <td>7475.0</td>\n",
       "      <td>NaN</td>\n",
       "    </tr>\n",
       "    <tr>\n",
       "      <th>10833</th>\n",
       "      <td>2014-02-05</td>\n",
       "      <td>32</td>\n",
       "      <td>5:30:00 AM</td>\n",
       "      <td>Wednesday</td>\n",
       "      <td>keele and Eglinton</td>\n",
       "      <td>Mechanical</td>\n",
       "      <td>NaN</td>\n",
       "      <td>11.0</td>\n",
       "      <td>e</td>\n",
       "      <td>1664.0</td>\n",
       "      <td>NaN</td>\n",
       "    </tr>\n",
       "    <tr>\n",
       "      <th>18227</th>\n",
       "      <td>2014-03-02</td>\n",
       "      <td>124</td>\n",
       "      <td>12:35:00 PM</td>\n",
       "      <td>Sunday</td>\n",
       "      <td>Bayview and Lawrence</td>\n",
       "      <td>Mechanical</td>\n",
       "      <td>NaN</td>\n",
       "      <td>0.0</td>\n",
       "      <td>e</td>\n",
       "      <td>1389.0</td>\n",
       "      <td>NaN</td>\n",
       "    </tr>\n",
       "    <tr>\n",
       "      <th>...</th>\n",
       "      <td>...</td>\n",
       "      <td>...</td>\n",
       "      <td>...</td>\n",
       "      <td>...</td>\n",
       "      <td>...</td>\n",
       "      <td>...</td>\n",
       "      <td>...</td>\n",
       "      <td>...</td>\n",
       "      <td>...</td>\n",
       "      <td>...</td>\n",
       "      <td>...</td>\n",
       "    </tr>\n",
       "    <tr>\n",
       "      <th>465751</th>\n",
       "      <td>2020-03-25</td>\n",
       "      <td>939</td>\n",
       "      <td>3:00:00 PM</td>\n",
       "      <td>Wednesday</td>\n",
       "      <td>Route 939</td>\n",
       "      <td>Utilized Off Route</td>\n",
       "      <td>NaN</td>\n",
       "      <td>NaN</td>\n",
       "      <td>BW</td>\n",
       "      <td>NaN</td>\n",
       "      <td>NaN</td>\n",
       "    </tr>\n",
       "    <tr>\n",
       "      <th>466418</th>\n",
       "      <td>2020-03-30</td>\n",
       "      <td>41</td>\n",
       "      <td>10:10:00 AM</td>\n",
       "      <td>Monday</td>\n",
       "      <td>Keele and Lawrence</td>\n",
       "      <td>Diversion</td>\n",
       "      <td>NaN</td>\n",
       "      <td>NaN</td>\n",
       "      <td>NaN</td>\n",
       "      <td>9040.0</td>\n",
       "      <td>NaN</td>\n",
       "    </tr>\n",
       "    <tr>\n",
       "      <th>468284</th>\n",
       "      <td>2020-04-14</td>\n",
       "      <td>22</td>\n",
       "      <td>7:16:00 PM</td>\n",
       "      <td>Tuesday</td>\n",
       "      <td>Eastern/Coxwell</td>\n",
       "      <td>Investigation</td>\n",
       "      <td>NaN</td>\n",
       "      <td>11.0</td>\n",
       "      <td>N/B</td>\n",
       "      <td>3169.0</td>\n",
       "      <td>NaN</td>\n",
       "    </tr>\n",
       "    <tr>\n",
       "      <th>468705</th>\n",
       "      <td>2020-04-17</td>\n",
       "      <td>97</td>\n",
       "      <td>3:00:00 PM</td>\n",
       "      <td>Friday</td>\n",
       "      <td>Yonge/Harley Blvd</td>\n",
       "      <td>Diversion</td>\n",
       "      <td>NaN</td>\n",
       "      <td>30.0</td>\n",
       "      <td>B/W</td>\n",
       "      <td>NaN</td>\n",
       "      <td>NaN</td>\n",
       "    </tr>\n",
       "    <tr>\n",
       "      <th>472779</th>\n",
       "      <td>2020-05-19</td>\n",
       "      <td>108</td>\n",
       "      <td>10:56:00 PM</td>\n",
       "      <td>Tuesday</td>\n",
       "      <td>Arleta and Grandravine</td>\n",
       "      <td>Diversion</td>\n",
       "      <td>NaN</td>\n",
       "      <td>15.0</td>\n",
       "      <td>B/W</td>\n",
       "      <td>3367.0</td>\n",
       "      <td>NaN</td>\n",
       "    </tr>\n",
       "  </tbody>\n",
       "</table>\n",
       "<p>456 rows × 11 columns</p>\n",
       "</div>"
      ],
      "text/plain": [
       "       Report_date  Route         Time        Day                  Location  \\\n",
       "2930    2014-01-08     85  11:31:00 PM  Wednesday  Sheppard and Victoria Pk   \n",
       "4334    2014-01-14     89   6:43:00 AM    Tuesday      Mounnt Dennis Garage   \n",
       "8895    2014-01-29    300   6:22:00 AM  Wednesday         Lansdowne station   \n",
       "10833   2014-02-05     32   5:30:00 AM  Wednesday        keele and Eglinton   \n",
       "18227   2014-03-02    124  12:35:00 PM     Sunday      Bayview and Lawrence   \n",
       "...            ...    ...          ...        ...                       ...   \n",
       "465751  2020-03-25    939   3:00:00 PM  Wednesday                 Route 939   \n",
       "466418  2020-03-30     41  10:10:00 AM     Monday        Keele and Lawrence   \n",
       "468284  2020-04-14     22   7:16:00 PM    Tuesday           Eastern/Coxwell   \n",
       "468705  2020-04-17     97   3:00:00 PM     Friday         Yonge/Harley Blvd   \n",
       "472779  2020-05-19    108  10:56:00 PM    Tuesday    Arleta and Grandravine   \n",
       "\n",
       "                  Incident  Min_delay  Min_gap Direction  Vehicle  Incident_ID  \n",
       "2930    Utilized Off Route        NaN      0.0         E   1127.0          NaN  \n",
       "4334            Mechanical        NaN      0.0       n/b   1600.0          NaN  \n",
       "8895         Investigation        NaN      NaN         W   7475.0          NaN  \n",
       "10833           Mechanical        NaN     11.0         e   1664.0          NaN  \n",
       "18227           Mechanical        NaN      0.0         e   1389.0          NaN  \n",
       "...                    ...        ...      ...       ...      ...          ...  \n",
       "465751  Utilized Off Route        NaN      NaN        BW      NaN          NaN  \n",
       "466418           Diversion        NaN      NaN       NaN   9040.0          NaN  \n",
       "468284       Investigation        NaN     11.0       N/B   3169.0          NaN  \n",
       "468705           Diversion        NaN     30.0       B/W      NaN          NaN  \n",
       "472779           Diversion        NaN     15.0       B/W   3367.0          NaN  \n",
       "\n",
       "[456 rows x 11 columns]"
      ]
     },
     "execution_count": 24,
     "metadata": {},
     "output_type": "execute_result"
    }
   ],
   "source": [
    "bus_df[bus_df['Min_delay'].isnull()]"
   ]
  },
  {
   "cell_type": "code",
   "execution_count": null,
   "metadata": {},
   "outputs": [],
   "source": [
    "bus['Min_delay']"
   ]
  },
  {
   "cell_type": "code",
   "execution_count": 25,
   "metadata": {},
   "outputs": [
    {
     "data": {
      "text/plain": [
       "456"
      ]
     },
     "execution_count": 25,
     "metadata": {},
     "output_type": "execute_result"
    }
   ],
   "source": [
    "bus_df['Min_delay'].isnull().sum()\n",
    "# handle missing data\n",
    "# https://www.kaggle.com/rtatman/data-cleaning-challenge-handling-missing-values "
   ]
  },
  {
   "cell_type": "code",
   "execution_count": 26,
   "metadata": {},
   "outputs": [
    {
     "ename": "ValueError",
     "evalue": "array must not contain infs or NaNs",
     "output_type": "error",
     "traceback": [
      "\u001b[1;31m---------------------------------------------------------------------------\u001b[0m",
      "\u001b[1;31mValueError\u001b[0m                                Traceback (most recent call last)",
      "\u001b[1;32m<ipython-input-26-2ba3e5ad2f62>\u001b[0m in \u001b[0;36m<module>\u001b[1;34m\u001b[0m\n\u001b[1;32m----> 1\u001b[1;33m \u001b[0msns\u001b[0m\u001b[1;33m.\u001b[0m\u001b[0mdistplot\u001b[0m\u001b[1;33m(\u001b[0m\u001b[0mbus_df\u001b[0m\u001b[1;33m[\u001b[0m\u001b[1;34m'Min_delay'\u001b[0m\u001b[1;33m]\u001b[0m\u001b[1;33m,\u001b[0m\u001b[0mhist\u001b[0m\u001b[1;33m=\u001b[0m\u001b[1;32mTrue\u001b[0m\u001b[1;33m,\u001b[0m \u001b[0mbins\u001b[0m\u001b[1;33m=\u001b[0m\u001b[1;36m100\u001b[0m\u001b[1;33m)\u001b[0m\u001b[1;33m\u001b[0m\u001b[1;33m\u001b[0m\u001b[0m\n\u001b[0m",
      "\u001b[1;32mc:\\users\\jason\\appdata\\local\\programs\\python\\python37\\lib\\site-packages\\seaborn\\distributions.py\u001b[0m in \u001b[0;36mdistplot\u001b[1;34m(a, bins, hist, kde, rug, fit, hist_kws, kde_kws, rug_kws, fit_kws, color, vertical, norm_hist, axlabel, label, ax)\u001b[0m\n\u001b[0;32m    229\u001b[0m     \u001b[1;32mif\u001b[0m \u001b[0mkde\u001b[0m\u001b[1;33m:\u001b[0m\u001b[1;33m\u001b[0m\u001b[1;33m\u001b[0m\u001b[0m\n\u001b[0;32m    230\u001b[0m         \u001b[0mkde_color\u001b[0m \u001b[1;33m=\u001b[0m \u001b[0mkde_kws\u001b[0m\u001b[1;33m.\u001b[0m\u001b[0mpop\u001b[0m\u001b[1;33m(\u001b[0m\u001b[1;34m\"color\"\u001b[0m\u001b[1;33m,\u001b[0m \u001b[0mcolor\u001b[0m\u001b[1;33m)\u001b[0m\u001b[1;33m\u001b[0m\u001b[1;33m\u001b[0m\u001b[0m\n\u001b[1;32m--> 231\u001b[1;33m         \u001b[0mkdeplot\u001b[0m\u001b[1;33m(\u001b[0m\u001b[0ma\u001b[0m\u001b[1;33m,\u001b[0m \u001b[0mvertical\u001b[0m\u001b[1;33m=\u001b[0m\u001b[0mvertical\u001b[0m\u001b[1;33m,\u001b[0m \u001b[0max\u001b[0m\u001b[1;33m=\u001b[0m\u001b[0max\u001b[0m\u001b[1;33m,\u001b[0m \u001b[0mcolor\u001b[0m\u001b[1;33m=\u001b[0m\u001b[0mkde_color\u001b[0m\u001b[1;33m,\u001b[0m \u001b[1;33m**\u001b[0m\u001b[0mkde_kws\u001b[0m\u001b[1;33m)\u001b[0m\u001b[1;33m\u001b[0m\u001b[1;33m\u001b[0m\u001b[0m\n\u001b[0m\u001b[0;32m    232\u001b[0m         \u001b[1;32mif\u001b[0m \u001b[0mkde_color\u001b[0m \u001b[1;33m!=\u001b[0m \u001b[0mcolor\u001b[0m\u001b[1;33m:\u001b[0m\u001b[1;33m\u001b[0m\u001b[1;33m\u001b[0m\u001b[0m\n\u001b[0;32m    233\u001b[0m             \u001b[0mkde_kws\u001b[0m\u001b[1;33m[\u001b[0m\u001b[1;34m\"color\"\u001b[0m\u001b[1;33m]\u001b[0m \u001b[1;33m=\u001b[0m \u001b[0mkde_color\u001b[0m\u001b[1;33m\u001b[0m\u001b[1;33m\u001b[0m\u001b[0m\n",
      "\u001b[1;32mc:\\users\\jason\\appdata\\local\\programs\\python\\python37\\lib\\site-packages\\seaborn\\distributions.py\u001b[0m in \u001b[0;36mkdeplot\u001b[1;34m(data, data2, shade, vertical, kernel, bw, gridsize, cut, clip, legend, cumulative, shade_lowest, cbar, cbar_ax, cbar_kws, ax, **kwargs)\u001b[0m\n\u001b[0;32m    689\u001b[0m         ax = _univariate_kdeplot(data, shade, vertical, kernel, bw,\n\u001b[0;32m    690\u001b[0m                                  \u001b[0mgridsize\u001b[0m\u001b[1;33m,\u001b[0m \u001b[0mcut\u001b[0m\u001b[1;33m,\u001b[0m \u001b[0mclip\u001b[0m\u001b[1;33m,\u001b[0m \u001b[0mlegend\u001b[0m\u001b[1;33m,\u001b[0m \u001b[0max\u001b[0m\u001b[1;33m,\u001b[0m\u001b[1;33m\u001b[0m\u001b[1;33m\u001b[0m\u001b[0m\n\u001b[1;32m--> 691\u001b[1;33m                                  cumulative=cumulative, **kwargs)\n\u001b[0m\u001b[0;32m    692\u001b[0m \u001b[1;33m\u001b[0m\u001b[0m\n\u001b[0;32m    693\u001b[0m     \u001b[1;32mreturn\u001b[0m \u001b[0max\u001b[0m\u001b[1;33m\u001b[0m\u001b[1;33m\u001b[0m\u001b[0m\n",
      "\u001b[1;32mc:\\users\\jason\\appdata\\local\\programs\\python\\python37\\lib\\site-packages\\seaborn\\distributions.py\u001b[0m in \u001b[0;36m_univariate_kdeplot\u001b[1;34m(data, shade, vertical, kernel, bw, gridsize, cut, clip, legend, ax, cumulative, **kwargs)\u001b[0m\n\u001b[0;32m    292\u001b[0m                               \u001b[1;34m\"only implemented in statsmodels.\"\u001b[0m\u001b[1;33m\u001b[0m\u001b[1;33m\u001b[0m\u001b[0m\n\u001b[0;32m    293\u001b[0m                               \"Please install statsmodels.\")\n\u001b[1;32m--> 294\u001b[1;33m         \u001b[0mx\u001b[0m\u001b[1;33m,\u001b[0m \u001b[0my\u001b[0m \u001b[1;33m=\u001b[0m \u001b[0m_scipy_univariate_kde\u001b[0m\u001b[1;33m(\u001b[0m\u001b[0mdata\u001b[0m\u001b[1;33m,\u001b[0m \u001b[0mbw\u001b[0m\u001b[1;33m,\u001b[0m \u001b[0mgridsize\u001b[0m\u001b[1;33m,\u001b[0m \u001b[0mcut\u001b[0m\u001b[1;33m,\u001b[0m \u001b[0mclip\u001b[0m\u001b[1;33m)\u001b[0m\u001b[1;33m\u001b[0m\u001b[1;33m\u001b[0m\u001b[0m\n\u001b[0m\u001b[0;32m    295\u001b[0m \u001b[1;33m\u001b[0m\u001b[0m\n\u001b[0;32m    296\u001b[0m     \u001b[1;31m# Make sure the density is nonnegative\u001b[0m\u001b[1;33m\u001b[0m\u001b[1;33m\u001b[0m\u001b[1;33m\u001b[0m\u001b[0m\n",
      "\u001b[1;32mc:\\users\\jason\\appdata\\local\\programs\\python\\python37\\lib\\site-packages\\seaborn\\distributions.py\u001b[0m in \u001b[0;36m_scipy_univariate_kde\u001b[1;34m(data, bw, gridsize, cut, clip)\u001b[0m\n\u001b[0;32m    364\u001b[0m     \u001b[1;34m\"\"\"Compute a univariate kernel density estimate using scipy.\"\"\"\u001b[0m\u001b[1;33m\u001b[0m\u001b[1;33m\u001b[0m\u001b[0m\n\u001b[0;32m    365\u001b[0m     \u001b[1;32mtry\u001b[0m\u001b[1;33m:\u001b[0m\u001b[1;33m\u001b[0m\u001b[1;33m\u001b[0m\u001b[0m\n\u001b[1;32m--> 366\u001b[1;33m         \u001b[0mkde\u001b[0m \u001b[1;33m=\u001b[0m \u001b[0mstats\u001b[0m\u001b[1;33m.\u001b[0m\u001b[0mgaussian_kde\u001b[0m\u001b[1;33m(\u001b[0m\u001b[0mdata\u001b[0m\u001b[1;33m,\u001b[0m \u001b[0mbw_method\u001b[0m\u001b[1;33m=\u001b[0m\u001b[0mbw\u001b[0m\u001b[1;33m)\u001b[0m\u001b[1;33m\u001b[0m\u001b[1;33m\u001b[0m\u001b[0m\n\u001b[0m\u001b[0;32m    367\u001b[0m     \u001b[1;32mexcept\u001b[0m \u001b[0mTypeError\u001b[0m\u001b[1;33m:\u001b[0m\u001b[1;33m\u001b[0m\u001b[1;33m\u001b[0m\u001b[0m\n\u001b[0;32m    368\u001b[0m         \u001b[0mkde\u001b[0m \u001b[1;33m=\u001b[0m \u001b[0mstats\u001b[0m\u001b[1;33m.\u001b[0m\u001b[0mgaussian_kde\u001b[0m\u001b[1;33m(\u001b[0m\u001b[0mdata\u001b[0m\u001b[1;33m)\u001b[0m\u001b[1;33m\u001b[0m\u001b[1;33m\u001b[0m\u001b[0m\n",
      "\u001b[1;32mc:\\users\\jason\\appdata\\local\\programs\\python\\python37\\lib\\site-packages\\scipy\\stats\\kde.py\u001b[0m in \u001b[0;36m__init__\u001b[1;34m(self, dataset, bw_method, weights)\u001b[0m\n\u001b[0;32m    204\u001b[0m             \u001b[0mself\u001b[0m\u001b[1;33m.\u001b[0m\u001b[0m_neff\u001b[0m \u001b[1;33m=\u001b[0m \u001b[1;36m1\u001b[0m\u001b[1;33m/\u001b[0m\u001b[0msum\u001b[0m\u001b[1;33m(\u001b[0m\u001b[0mself\u001b[0m\u001b[1;33m.\u001b[0m\u001b[0m_weights\u001b[0m\u001b[1;33m**\u001b[0m\u001b[1;36m2\u001b[0m\u001b[1;33m)\u001b[0m\u001b[1;33m\u001b[0m\u001b[1;33m\u001b[0m\u001b[0m\n\u001b[0;32m    205\u001b[0m \u001b[1;33m\u001b[0m\u001b[0m\n\u001b[1;32m--> 206\u001b[1;33m         \u001b[0mself\u001b[0m\u001b[1;33m.\u001b[0m\u001b[0mset_bandwidth\u001b[0m\u001b[1;33m(\u001b[0m\u001b[0mbw_method\u001b[0m\u001b[1;33m=\u001b[0m\u001b[0mbw_method\u001b[0m\u001b[1;33m)\u001b[0m\u001b[1;33m\u001b[0m\u001b[1;33m\u001b[0m\u001b[0m\n\u001b[0m\u001b[0;32m    207\u001b[0m \u001b[1;33m\u001b[0m\u001b[0m\n\u001b[0;32m    208\u001b[0m     \u001b[1;32mdef\u001b[0m \u001b[0mevaluate\u001b[0m\u001b[1;33m(\u001b[0m\u001b[0mself\u001b[0m\u001b[1;33m,\u001b[0m \u001b[0mpoints\u001b[0m\u001b[1;33m)\u001b[0m\u001b[1;33m:\u001b[0m\u001b[1;33m\u001b[0m\u001b[1;33m\u001b[0m\u001b[0m\n",
      "\u001b[1;32mc:\\users\\jason\\appdata\\local\\programs\\python\\python37\\lib\\site-packages\\scipy\\stats\\kde.py\u001b[0m in \u001b[0;36mset_bandwidth\u001b[1;34m(self, bw_method)\u001b[0m\n\u001b[0;32m    554\u001b[0m             \u001b[1;32mraise\u001b[0m \u001b[0mValueError\u001b[0m\u001b[1;33m(\u001b[0m\u001b[0mmsg\u001b[0m\u001b[1;33m)\u001b[0m\u001b[1;33m\u001b[0m\u001b[1;33m\u001b[0m\u001b[0m\n\u001b[0;32m    555\u001b[0m \u001b[1;33m\u001b[0m\u001b[0m\n\u001b[1;32m--> 556\u001b[1;33m         \u001b[0mself\u001b[0m\u001b[1;33m.\u001b[0m\u001b[0m_compute_covariance\u001b[0m\u001b[1;33m(\u001b[0m\u001b[1;33m)\u001b[0m\u001b[1;33m\u001b[0m\u001b[1;33m\u001b[0m\u001b[0m\n\u001b[0m\u001b[0;32m    557\u001b[0m \u001b[1;33m\u001b[0m\u001b[0m\n\u001b[0;32m    558\u001b[0m     \u001b[1;32mdef\u001b[0m \u001b[0m_compute_covariance\u001b[0m\u001b[1;33m(\u001b[0m\u001b[0mself\u001b[0m\u001b[1;33m)\u001b[0m\u001b[1;33m:\u001b[0m\u001b[1;33m\u001b[0m\u001b[1;33m\u001b[0m\u001b[0m\n",
      "\u001b[1;32mc:\\users\\jason\\appdata\\local\\programs\\python\\python37\\lib\\site-packages\\scipy\\stats\\kde.py\u001b[0m in \u001b[0;36m_compute_covariance\u001b[1;34m(self)\u001b[0m\n\u001b[0;32m    566\u001b[0m                                                \u001b[0mbias\u001b[0m\u001b[1;33m=\u001b[0m\u001b[1;32mFalse\u001b[0m\u001b[1;33m,\u001b[0m\u001b[1;33m\u001b[0m\u001b[1;33m\u001b[0m\u001b[0m\n\u001b[0;32m    567\u001b[0m                                                aweights=self.weights))\n\u001b[1;32m--> 568\u001b[1;33m             \u001b[0mself\u001b[0m\u001b[1;33m.\u001b[0m\u001b[0m_data_inv_cov\u001b[0m \u001b[1;33m=\u001b[0m \u001b[0mlinalg\u001b[0m\u001b[1;33m.\u001b[0m\u001b[0minv\u001b[0m\u001b[1;33m(\u001b[0m\u001b[0mself\u001b[0m\u001b[1;33m.\u001b[0m\u001b[0m_data_covariance\u001b[0m\u001b[1;33m)\u001b[0m\u001b[1;33m\u001b[0m\u001b[1;33m\u001b[0m\u001b[0m\n\u001b[0m\u001b[0;32m    569\u001b[0m \u001b[1;33m\u001b[0m\u001b[0m\n\u001b[0;32m    570\u001b[0m         \u001b[0mself\u001b[0m\u001b[1;33m.\u001b[0m\u001b[0mcovariance\u001b[0m \u001b[1;33m=\u001b[0m \u001b[0mself\u001b[0m\u001b[1;33m.\u001b[0m\u001b[0m_data_covariance\u001b[0m \u001b[1;33m*\u001b[0m \u001b[0mself\u001b[0m\u001b[1;33m.\u001b[0m\u001b[0mfactor\u001b[0m\u001b[1;33m**\u001b[0m\u001b[1;36m2\u001b[0m\u001b[1;33m\u001b[0m\u001b[1;33m\u001b[0m\u001b[0m\n",
      "\u001b[1;32mc:\\users\\jason\\appdata\\local\\programs\\python\\python37\\lib\\site-packages\\scipy\\linalg\\basic.py\u001b[0m in \u001b[0;36minv\u001b[1;34m(a, overwrite_a, check_finite)\u001b[0m\n\u001b[0;32m    946\u001b[0m \u001b[1;33m\u001b[0m\u001b[0m\n\u001b[0;32m    947\u001b[0m     \"\"\"\n\u001b[1;32m--> 948\u001b[1;33m     \u001b[0ma1\u001b[0m \u001b[1;33m=\u001b[0m \u001b[0m_asarray_validated\u001b[0m\u001b[1;33m(\u001b[0m\u001b[0ma\u001b[0m\u001b[1;33m,\u001b[0m \u001b[0mcheck_finite\u001b[0m\u001b[1;33m=\u001b[0m\u001b[0mcheck_finite\u001b[0m\u001b[1;33m)\u001b[0m\u001b[1;33m\u001b[0m\u001b[1;33m\u001b[0m\u001b[0m\n\u001b[0m\u001b[0;32m    949\u001b[0m     \u001b[1;32mif\u001b[0m \u001b[0mlen\u001b[0m\u001b[1;33m(\u001b[0m\u001b[0ma1\u001b[0m\u001b[1;33m.\u001b[0m\u001b[0mshape\u001b[0m\u001b[1;33m)\u001b[0m \u001b[1;33m!=\u001b[0m \u001b[1;36m2\u001b[0m \u001b[1;32mor\u001b[0m \u001b[0ma1\u001b[0m\u001b[1;33m.\u001b[0m\u001b[0mshape\u001b[0m\u001b[1;33m[\u001b[0m\u001b[1;36m0\u001b[0m\u001b[1;33m]\u001b[0m \u001b[1;33m!=\u001b[0m \u001b[0ma1\u001b[0m\u001b[1;33m.\u001b[0m\u001b[0mshape\u001b[0m\u001b[1;33m[\u001b[0m\u001b[1;36m1\u001b[0m\u001b[1;33m]\u001b[0m\u001b[1;33m:\u001b[0m\u001b[1;33m\u001b[0m\u001b[1;33m\u001b[0m\u001b[0m\n\u001b[0;32m    950\u001b[0m         \u001b[1;32mraise\u001b[0m \u001b[0mValueError\u001b[0m\u001b[1;33m(\u001b[0m\u001b[1;34m'expected square matrix'\u001b[0m\u001b[1;33m)\u001b[0m\u001b[1;33m\u001b[0m\u001b[1;33m\u001b[0m\u001b[0m\n",
      "\u001b[1;32mc:\\users\\jason\\appdata\\local\\programs\\python\\python37\\lib\\site-packages\\scipy\\_lib\\_util.py\u001b[0m in \u001b[0;36m_asarray_validated\u001b[1;34m(a, check_finite, sparse_ok, objects_ok, mask_ok, as_inexact)\u001b[0m\n\u001b[0;32m    261\u001b[0m             \u001b[1;32mraise\u001b[0m \u001b[0mValueError\u001b[0m\u001b[1;33m(\u001b[0m\u001b[1;34m'masked arrays are not supported'\u001b[0m\u001b[1;33m)\u001b[0m\u001b[1;33m\u001b[0m\u001b[1;33m\u001b[0m\u001b[0m\n\u001b[0;32m    262\u001b[0m     \u001b[0mtoarray\u001b[0m \u001b[1;33m=\u001b[0m \u001b[0mnp\u001b[0m\u001b[1;33m.\u001b[0m\u001b[0masarray_chkfinite\u001b[0m \u001b[1;32mif\u001b[0m \u001b[0mcheck_finite\u001b[0m \u001b[1;32melse\u001b[0m \u001b[0mnp\u001b[0m\u001b[1;33m.\u001b[0m\u001b[0masarray\u001b[0m\u001b[1;33m\u001b[0m\u001b[1;33m\u001b[0m\u001b[0m\n\u001b[1;32m--> 263\u001b[1;33m     \u001b[0ma\u001b[0m \u001b[1;33m=\u001b[0m \u001b[0mtoarray\u001b[0m\u001b[1;33m(\u001b[0m\u001b[0ma\u001b[0m\u001b[1;33m)\u001b[0m\u001b[1;33m\u001b[0m\u001b[1;33m\u001b[0m\u001b[0m\n\u001b[0m\u001b[0;32m    264\u001b[0m     \u001b[1;32mif\u001b[0m \u001b[1;32mnot\u001b[0m \u001b[0mobjects_ok\u001b[0m\u001b[1;33m:\u001b[0m\u001b[1;33m\u001b[0m\u001b[1;33m\u001b[0m\u001b[0m\n\u001b[0;32m    265\u001b[0m         \u001b[1;32mif\u001b[0m \u001b[0ma\u001b[0m\u001b[1;33m.\u001b[0m\u001b[0mdtype\u001b[0m \u001b[1;32mis\u001b[0m \u001b[0mnp\u001b[0m\u001b[1;33m.\u001b[0m\u001b[0mdtype\u001b[0m\u001b[1;33m(\u001b[0m\u001b[1;34m'O'\u001b[0m\u001b[1;33m)\u001b[0m\u001b[1;33m:\u001b[0m\u001b[1;33m\u001b[0m\u001b[1;33m\u001b[0m\u001b[0m\n",
      "\u001b[1;32mc:\\users\\jason\\appdata\\local\\programs\\python\\python37\\lib\\site-packages\\numpy\\lib\\function_base.py\u001b[0m in \u001b[0;36masarray_chkfinite\u001b[1;34m(a, dtype, order)\u001b[0m\n\u001b[0;32m    484\u001b[0m     \u001b[1;32mif\u001b[0m \u001b[0ma\u001b[0m\u001b[1;33m.\u001b[0m\u001b[0mdtype\u001b[0m\u001b[1;33m.\u001b[0m\u001b[0mchar\u001b[0m \u001b[1;32min\u001b[0m \u001b[0mtypecodes\u001b[0m\u001b[1;33m[\u001b[0m\u001b[1;34m'AllFloat'\u001b[0m\u001b[1;33m]\u001b[0m \u001b[1;32mand\u001b[0m \u001b[1;32mnot\u001b[0m \u001b[0mnp\u001b[0m\u001b[1;33m.\u001b[0m\u001b[0misfinite\u001b[0m\u001b[1;33m(\u001b[0m\u001b[0ma\u001b[0m\u001b[1;33m)\u001b[0m\u001b[1;33m.\u001b[0m\u001b[0mall\u001b[0m\u001b[1;33m(\u001b[0m\u001b[1;33m)\u001b[0m\u001b[1;33m:\u001b[0m\u001b[1;33m\u001b[0m\u001b[1;33m\u001b[0m\u001b[0m\n\u001b[0;32m    485\u001b[0m         raise ValueError(\n\u001b[1;32m--> 486\u001b[1;33m             \"array must not contain infs or NaNs\")\n\u001b[0m\u001b[0;32m    487\u001b[0m     \u001b[1;32mreturn\u001b[0m \u001b[0ma\u001b[0m\u001b[1;33m\u001b[0m\u001b[1;33m\u001b[0m\u001b[0m\n\u001b[0;32m    488\u001b[0m \u001b[1;33m\u001b[0m\u001b[0m\n",
      "\u001b[1;31mValueError\u001b[0m: array must not contain infs or NaNs"
     ]
    },
    {
     "data": {
      "image/png": "[encoded data removed]",
      "text/plain": [
       "<Figure size 432x288 with 1 Axes>"
      ]
     },
     "metadata": {
      "needs_background": "light"
     },
     "output_type": "display_data"
    }
   ],
   "source": [
    "sns.distplot(bus_df['Min_delay'],hist=True, bins=100)"
   ]
  },
  {
   "cell_type": "code",
   "execution_count": null,
   "metadata": {},
   "outputs": [],
   "source": [
    "bus_df.Min_delay.value_counts().max"
   ]
  },
  {
   "cell_type": "code",
   "execution_count": null,
   "metadata": {},
   "outputs": [],
   "source": [
    "bus_df.Route.value_counts().max()"
   ]
  },
  {
   "cell_type": "code",
   "execution_count": null,
   "metadata": {},
   "outputs": [],
   "source": [
    "bus_df.Time.value_counts().max()"
   ]
  },
  {
   "cell_type": "code",
   "execution_count": null,
   "metadata": {},
   "outputs": [],
   "source": [
    "bus_df.Day.value_counts().max()"
   ]
  },
  {
   "cell_type": "code",
   "execution_count": null,
   "metadata": {},
   "outputs": [],
   "source": [
    "bus_df.Location.value_counts().max()"
   ]
  },
  {
   "cell_type": "code",
   "execution_count": null,
   "metadata": {},
   "outputs": [],
   "source": [
    "bus_df.Incident.value_counts().max()"
   ]
  },
  {
   "cell_type": "code",
   "execution_count": null,
   "metadata": {},
   "outputs": [],
   "source": [
    "bus_df.Min_delay.value_counts().max()"
   ]
  },
  {
   "cell_type": "code",
   "execution_count": null,
   "metadata": {},
   "outputs": [],
   "source": [
    "bus_df.Min_gap.value_counts().max()"
   ]
  },
  {
   "cell_type": "code",
   "execution_count": null,
   "metadata": {},
   "outputs": [],
   "source": [
    "bus_df.Direction.value_counts().max()"
   ]
  },
  {
   "cell_type": "code",
   "execution_count": null,
   "metadata": {},
   "outputs": [],
   "source": [
    "bus_df.Vehicle.value_counts().max()"
   ]
  },
  {
   "cell_type": "code",
   "execution_count": null,
   "metadata": {},
   "outputs": [],
   "source": [
    "bus_df.Incident_ID.value_counts().max()"
   ]
  },
  {
   "cell_type": "code",
   "execution_count": null,
   "metadata": {},
   "outputs": [],
   "source": [
    "streetcar_df.Report_date.value_counts().max()"
   ]
  },
  {
   "cell_type": "code",
   "execution_count": null,
   "metadata": {},
   "outputs": [],
   "source": [
    "streetcar_df.Route.value_counts().max()"
   ]
  },
  {
   "cell_type": "code",
   "execution_count": null,
   "metadata": {},
   "outputs": [],
   "source": [
    "subway_df.Station.value_counts().max()"
   ]
  },
  {
   "cell_type": "code",
   "execution_count": null,
   "metadata": {},
   "outputs": [],
   "source": []
  },
  {
   "cell_type": "markdown",
   "metadata": {},
   "source": [
    "# A closer look into bus"
   ]
  },
  {
   "cell_type": "code",
   "execution_count": null,
   "metadata": {},
   "outputs": [],
   "source": [
    "bus_df.head()"
   ]
  },
  {
   "cell_type": "code",
   "execution_count": null,
   "metadata": {},
   "outputs": [],
   "source": []
  },
  {
   "cell_type": "code",
   "execution_count": null,
   "metadata": {},
   "outputs": [],
   "source": []
  },
  {
   "cell_type": "code",
   "execution_count": null,
   "metadata": {},
   "outputs": [],
   "source": []
  }
 ],
 "metadata": {
  "kernelspec": {
   "display_name": "Python 3",
   "language": "python",
   "name": "python3"
  },
  "language_info": {
   "codemirror_mode": {
    "name": "ipython",
    "version": 3
   },
   "file_extension": ".py",
   "mimetype": "text/x-python",
   "name": "python",
   "nbconvert_exporter": "python",
   "pygments_lexer": "ipython3",
   "version": "3.7.3"
  }
 },
 "nbformat": 4,
 "nbformat_minor": 2
}
